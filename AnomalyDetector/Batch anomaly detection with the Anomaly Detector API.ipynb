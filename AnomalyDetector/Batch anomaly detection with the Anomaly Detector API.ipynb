{
 "cells": [
  {
   "cell_type": "markdown",
   "metadata": {},
   "source": [
    "# Batch anomaly detection with the Anomaly Detector API"
   ]
  },
  {
   "cell_type": "markdown",
   "metadata": {},
   "source": [
    "### Use this Jupyter notebook to start visualizing anomalies as a batch with the Anomaly Detector API in Python.\n",
    "\n",
    "This notebook shows you how to send a batch anomaly detection request, and vizualize the anomalies found throughout the example data set. The graph created at the end of this notebook will display the following:\n",
    "* Anomalies found throughout the data set, highlighted.\n",
    "* The expected values versus the values contained in the data set.\n",
    "* Anomaly detection boundaries \n"
   ]
  },
  {
   "cell_type": "markdown",
   "metadata": {},
   "source": [
    "# Azure Stream Analytics Query\n",
    "\n",
    "If you are exporting telemetry from IoT Hub/Central to ASA then this query will be a useful starting point\n",
    "\n",
    "```sql\n",
    "WITH Telemetry AS (\n",
    "    SELECT\n",
    "        deviceId as DeviceId,\n",
    "        enrichments.deviceName as DeviceName,\n",
    "        telemetry.latitude as Latitude,\n",
    "        telemetry.longitude as Longitude,\n",
    "        MAX(telemetry.temperature) AS Temperature,\n",
    "        AVG(telemetry.humidity) AS Humidity,\n",
    "        AVG(telemetry.pressure) AS Pressure,\n",
    "        System.Timestamp() as Timestamp,\n",
    "        Count(*) as Count\n",
    "    FROM [weather-eh] TIMESTAMP BY enqueuedTime\n",
    "    GROUP BY\n",
    "        deviceId,\n",
    "        enrichments.deviceName,\n",
    "        telemetry.latitude,\n",
    "        telemetry.longitude,\n",
    "        TumblingWindow(minute,4)\n",
    ")\n",
    "\n",
    "SELECT DeviceId, DeviceName, LEFT(CAST(Timestamp as nvarchar(max)), 16) as timestamp, Temperature AS value INTO [anomaly-data] FROM Telemetry\n",
    "```"
   ]
  },
  {
   "cell_type": "code",
   "execution_count": 1,
   "metadata": {},
   "outputs": [],
   "source": [
    "# To start sending requests to the Anomaly Detector API, paste your Anomaly Detector resource access key below,\n",
    "# and replace the endpoint variable with the endpoint for your region or your on-premise container endpoint. \n",
    "# Endpoint examples:\n",
    "# https://westus2.api.cognitive.microsoft.com/anomalydetector/v1.0/timeseries/entire/detect\n",
    "# http://127.0.0.1:5000/anomalydetector/v1.0/timeseries/entire/detect\n",
    "\n",
    "# Output from Azure Stream Analytics\n",
    "apikey = 'ac1a8b946fb647d29e65d8e0b6a6a5c5'\n",
    "endpoint = 'https://weather-anomaly.cognitiveservices.azure.com/anomalydetector/v1.0/timeseries/entire/detect'\n",
    "blob_conn_str=\"DefaultEndpointsProtocol=https;AccountName=weatherstgglovebox;AccountKey=hTMFmZRiQVtpdDpEQNgEV3qtUNhVyKNmTWaA2sppDe6VPpy4bMnt1I9wwOwHk0Ysv2fqDg/HXUikpSd7/B2r1A==;EndpointSuffix=core.windows.net\"\n",
    "# IoT Central Blog Storage Logging\n",
    "endpoint = 'https://weather-anomaly.cognitiveservices.azure.com/anomalydetector/v1.0/timeseries/entire/detect'\n",
    "blob_filter = \"6a4d8c94-7f2d-4ff9-b15a-38749d4ebe61/18/2022/04/\"\n",
    "input_container = \"weather-tracker\"\n",
    "device_id = \"rpi44\"\n"
   ]
  },
  {
   "cell_type": "code",
   "execution_count": 2,
   "metadata": {},
   "outputs": [],
   "source": [
    "import requests\n",
    "import json\n",
    "import pandas as pd\n",
    "import numpy as np\n",
    "import warnings\n",
    "warnings.filterwarnings('ignore')\n",
    "\n",
    "# Import library to display results\n",
    "import matplotlib.pyplot as plt\n",
    "%matplotlib inline "
   ]
  },
  {
   "cell_type": "code",
   "execution_count": 3,
   "metadata": {},
   "outputs": [
    {
     "data": {
      "text/html": [
       "\n",
       "    <div class=\"bk-root\">\n",
       "        <a href=\"https://bokeh.org\" target=\"_blank\" class=\"bk-logo bk-logo-small bk-logo-notebook\"></a>\n",
       "        <span id=\"1002\">Loading BokehJS ...</span>\n",
       "    </div>"
      ]
     },
     "metadata": {},
     "output_type": "display_data"
    },
    {
     "data": {
      "application/javascript": "\n(function(root) {\n  function now() {\n    return new Date();\n  }\n\n  const force = true;\n\n  if (typeof root._bokeh_onload_callbacks === \"undefined\" || force === true) {\n    root._bokeh_onload_callbacks = [];\n    root._bokeh_is_loading = undefined;\n  }\n\n  const JS_MIME_TYPE = 'application/javascript';\n  const HTML_MIME_TYPE = 'text/html';\n  const EXEC_MIME_TYPE = 'application/vnd.bokehjs_exec.v0+json';\n  const CLASS_NAME = 'output_bokeh rendered_html';\n\n  /**\n   * Render data to the DOM node\n   */\n  function render(props, node) {\n    const script = document.createElement(\"script\");\n    node.appendChild(script);\n  }\n\n  /**\n   * Handle when an output is cleared or removed\n   */\n  function handleClearOutput(event, handle) {\n    const cell = handle.cell;\n\n    const id = cell.output_area._bokeh_element_id;\n    const server_id = cell.output_area._bokeh_server_id;\n    // Clean up Bokeh references\n    if (id != null && id in Bokeh.index) {\n      Bokeh.index[id].model.document.clear();\n      delete Bokeh.index[id];\n    }\n\n    if (server_id !== undefined) {\n      // Clean up Bokeh references\n      const cmd_clean = \"from bokeh.io.state import curstate; print(curstate().uuid_to_server['\" + server_id + \"'].get_sessions()[0].document.roots[0]._id)\";\n      cell.notebook.kernel.execute(cmd_clean, {\n        iopub: {\n          output: function(msg) {\n            const id = msg.content.text.trim();\n            if (id in Bokeh.index) {\n              Bokeh.index[id].model.document.clear();\n              delete Bokeh.index[id];\n            }\n          }\n        }\n      });\n      // Destroy server and session\n      const cmd_destroy = \"import bokeh.io.notebook as ion; ion.destroy_server('\" + server_id + \"')\";\n      cell.notebook.kernel.execute(cmd_destroy);\n    }\n  }\n\n  /**\n   * Handle when a new output is added\n   */\n  function handleAddOutput(event, handle) {\n    const output_area = handle.output_area;\n    const output = handle.output;\n\n    // limit handleAddOutput to display_data with EXEC_MIME_TYPE content only\n    if ((output.output_type != \"display_data\") || (!Object.prototype.hasOwnProperty.call(output.data, EXEC_MIME_TYPE))) {\n      return\n    }\n\n    const toinsert = output_area.element.find(\".\" + CLASS_NAME.split(' ')[0]);\n\n    if (output.metadata[EXEC_MIME_TYPE][\"id\"] !== undefined) {\n      toinsert[toinsert.length - 1].firstChild.textContent = output.data[JS_MIME_TYPE];\n      // store reference to embed id on output_area\n      output_area._bokeh_element_id = output.metadata[EXEC_MIME_TYPE][\"id\"];\n    }\n    if (output.metadata[EXEC_MIME_TYPE][\"server_id\"] !== undefined) {\n      const bk_div = document.createElement(\"div\");\n      bk_div.innerHTML = output.data[HTML_MIME_TYPE];\n      const script_attrs = bk_div.children[0].attributes;\n      for (let i = 0; i < script_attrs.length; i++) {\n        toinsert[toinsert.length - 1].firstChild.setAttribute(script_attrs[i].name, script_attrs[i].value);\n        toinsert[toinsert.length - 1].firstChild.textContent = bk_div.children[0].textContent\n      }\n      // store reference to server id on output_area\n      output_area._bokeh_server_id = output.metadata[EXEC_MIME_TYPE][\"server_id\"];\n    }\n  }\n\n  function register_renderer(events, OutputArea) {\n\n    function append_mime(data, metadata, element) {\n      // create a DOM node to render to\n      const toinsert = this.create_output_subarea(\n        metadata,\n        CLASS_NAME,\n        EXEC_MIME_TYPE\n      );\n      this.keyboard_manager.register_events(toinsert);\n      // Render to node\n      const props = {data: data, metadata: metadata[EXEC_MIME_TYPE]};\n      render(props, toinsert[toinsert.length - 1]);\n      element.append(toinsert);\n      return toinsert\n    }\n\n    /* Handle when an output is cleared or removed */\n    events.on('clear_output.CodeCell', handleClearOutput);\n    events.on('delete.Cell', handleClearOutput);\n\n    /* Handle when a new output is added */\n    events.on('output_added.OutputArea', handleAddOutput);\n\n    /**\n     * Register the mime type and append_mime function with output_area\n     */\n    OutputArea.prototype.register_mime_type(EXEC_MIME_TYPE, append_mime, {\n      /* Is output safe? */\n      safe: true,\n      /* Index of renderer in `output_area.display_order` */\n      index: 0\n    });\n  }\n\n  // register the mime type if in Jupyter Notebook environment and previously unregistered\n  if (root.Jupyter !== undefined) {\n    const events = require('base/js/events');\n    const OutputArea = require('notebook/js/outputarea').OutputArea;\n\n    if (OutputArea.prototype.mime_types().indexOf(EXEC_MIME_TYPE) == -1) {\n      register_renderer(events, OutputArea);\n    }\n  }\n\n  \n  if (typeof (root._bokeh_timeout) === \"undefined\" || force === true) {\n    root._bokeh_timeout = Date.now() + 5000;\n    root._bokeh_failed_load = false;\n  }\n\n  const NB_LOAD_WARNING = {'data': {'text/html':\n     \"<div style='background-color: #fdd'>\\n\"+\n     \"<p>\\n\"+\n     \"BokehJS does not appear to have successfully loaded. If loading BokehJS from CDN, this \\n\"+\n     \"may be due to a slow or bad network connection. Possible fixes:\\n\"+\n     \"</p>\\n\"+\n     \"<ul>\\n\"+\n     \"<li>re-rerun `output_notebook()` to attempt to load from CDN again, or</li>\\n\"+\n     \"<li>use INLINE resources instead, as so:</li>\\n\"+\n     \"</ul>\\n\"+\n     \"<code>\\n\"+\n     \"from bokeh.resources import INLINE\\n\"+\n     \"output_notebook(resources=INLINE)\\n\"+\n     \"</code>\\n\"+\n     \"</div>\"}};\n\n  function display_loaded() {\n    const el = document.getElementById(\"1002\");\n    if (el != null) {\n      el.textContent = \"BokehJS is loading...\";\n    }\n    if (root.Bokeh !== undefined) {\n      if (el != null) {\n        el.textContent = \"BokehJS \" + root.Bokeh.version + \" successfully loaded.\";\n      }\n    } else if (Date.now() < root._bokeh_timeout) {\n      setTimeout(display_loaded, 100)\n    }\n  }\n\n\n  function run_callbacks() {\n    try {\n      root._bokeh_onload_callbacks.forEach(function(callback) {\n        if (callback != null)\n          callback();\n      });\n    } finally {\n      delete root._bokeh_onload_callbacks\n    }\n    console.debug(\"Bokeh: all callbacks have finished\");\n  }\n\n  function load_libs(css_urls, js_urls, callback) {\n    if (css_urls == null) css_urls = [];\n    if (js_urls == null) js_urls = [];\n\n    root._bokeh_onload_callbacks.push(callback);\n    if (root._bokeh_is_loading > 0) {\n      console.debug(\"Bokeh: BokehJS is being loaded, scheduling callback at\", now());\n      return null;\n    }\n    if (js_urls == null || js_urls.length === 0) {\n      run_callbacks();\n      return null;\n    }\n    console.debug(\"Bokeh: BokehJS not loaded, scheduling load and callback at\", now());\n    root._bokeh_is_loading = css_urls.length + js_urls.length;\n\n    function on_load() {\n      root._bokeh_is_loading--;\n      if (root._bokeh_is_loading === 0) {\n        console.debug(\"Bokeh: all BokehJS libraries/stylesheets loaded\");\n        run_callbacks()\n      }\n    }\n\n    function on_error(url) {\n      console.error(\"failed to load \" + url);\n    }\n\n    for (let i = 0; i < css_urls.length; i++) {\n      const url = css_urls[i];\n      const element = document.createElement(\"link\");\n      element.onload = on_load;\n      element.onerror = on_error.bind(null, url);\n      element.rel = \"stylesheet\";\n      element.type = \"text/css\";\n      element.href = url;\n      console.debug(\"Bokeh: injecting link tag for BokehJS stylesheet: \", url);\n      document.body.appendChild(element);\n    }\n\n    for (let i = 0; i < js_urls.length; i++) {\n      const url = js_urls[i];\n      const element = document.createElement('script');\n      element.onload = on_load;\n      element.onerror = on_error.bind(null, url);\n      element.async = false;\n      element.src = url;\n      console.debug(\"Bokeh: injecting script tag for BokehJS library: \", url);\n      document.head.appendChild(element);\n    }\n  };\n\n  function inject_raw_css(css) {\n    const element = document.createElement(\"style\");\n    element.appendChild(document.createTextNode(css));\n    document.body.appendChild(element);\n  }\n\n  \n  const js_urls = [\"https://cdn.bokeh.org/bokeh/release/bokeh-2.4.2.min.js\", \"https://cdn.bokeh.org/bokeh/release/bokeh-gl-2.4.2.min.js\", \"https://cdn.bokeh.org/bokeh/release/bokeh-widgets-2.4.2.min.js\", \"https://cdn.bokeh.org/bokeh/release/bokeh-tables-2.4.2.min.js\", \"https://cdn.bokeh.org/bokeh/release/bokeh-mathjax-2.4.2.min.js\"];\n  const css_urls = [];\n  \n\n  const inline_js = [\n    function(Bokeh) {\n      Bokeh.set_log_level(\"info\");\n    },\n    function(Bokeh) {\n    \n    \n    }\n  ];\n\n  function run_inline_js() {\n    \n    if (root.Bokeh !== undefined || force === true) {\n      \n    for (let i = 0; i < inline_js.length; i++) {\n      inline_js[i].call(root, root.Bokeh);\n    }\n    if (force === true) {\n        display_loaded();\n      }} else if (Date.now() < root._bokeh_timeout) {\n      setTimeout(run_inline_js, 100);\n    } else if (!root._bokeh_failed_load) {\n      console.log(\"Bokeh: BokehJS failed to load within specified timeout.\");\n      root._bokeh_failed_load = true;\n    } else if (force !== true) {\n      const cell = $(document.getElementById(\"1002\")).parents('.cell').data().cell;\n      cell.output_area.append_execute_result(NB_LOAD_WARNING)\n    }\n\n  }\n\n  if (root._bokeh_is_loading === 0) {\n    console.debug(\"Bokeh: BokehJS loaded, going straight to plotting\");\n    run_inline_js();\n  } else {\n    load_libs(css_urls, js_urls, function() {\n      console.debug(\"Bokeh: BokehJS plotting callback run at\", now());\n      run_inline_js();\n    });\n  }\n}(window));",
      "application/vnd.bokehjs_load.v0+json": ""
     },
     "metadata": {},
     "output_type": "display_data"
    }
   ],
   "source": [
    "from bokeh.plotting import figure,output_notebook, show\n",
    "from bokeh.palettes import Blues4\n",
    "from bokeh.models import ColumnDataSource,Slider\n",
    "import datetime\n",
    "from bokeh.io import push_notebook\n",
    "from dateutil import parser\n",
    "from ipywidgets import interact, widgets, fixed\n",
    "from IPython.display import clear_output \n",
    "\n",
    "output_notebook()"
   ]
  },
  {
   "cell_type": "code",
   "execution_count": 4,
   "metadata": {},
   "outputs": [],
   "source": [
    "def detect(endpoint, apikey, request_data):\n",
    "    headers = {'Content-Type': 'application/json', 'Ocp-Apim-Subscription-Key': apikey}\n",
    "    response = requests.post(endpoint, data=json.dumps(request_data), headers=headers)\n",
    "    if response.status_code == 200:\n",
    "        return json.loads(response.content.decode(\"utf-8\"))\n",
    "    else:\n",
    "        print(response.status_code)\n",
    "        raise Exception(response.text)"
   ]
  },
  {
   "cell_type": "markdown",
   "metadata": {},
   "source": []
  },
  {
   "cell_type": "markdown",
   "metadata": {},
   "source": [
    "format_json_data iterates through the blob data and adds to a python dictionary.\n",
    "A dictionary is used as it dedups any duplicate timestamps. The dictionary is later converted to a \n",
    "list of json objects."
   ]
  },
  {
   "cell_type": "code",
   "execution_count": 5,
   "metadata": {},
   "outputs": [],
   "source": [
    "# Add to a dictionary to dedup any duplication \n",
    "def format_json_data(telemetry_data, data):\n",
    "    parse_json_records = [json.loads(str(item)) for item in telemetry_data.strip().split('\\n')]\n",
    "    for item in parse_json_records:\n",
    "        di = {}\n",
    "        \n",
    "        di['timestamp'] = item[\"timestamp\"]\n",
    "        di['value'] = item['value']\n",
    "\n",
    "        data.append(di)\n"
   ]
  },
  {
   "cell_type": "code",
   "execution_count": 6,
   "metadata": {},
   "outputs": [],
   "source": [
    "from azure.storage.blob import BlobServiceClient\n",
    "from azure.storage.blob import ContainerClient\n",
    "import json\n",
    "\n",
    "input_container=\"anomaly-data\"\n",
    "\n",
    "def process_raw_data():\n",
    "    container = ContainerClient.from_connection_string(\n",
    "        conn_str=blob_conn_str, container_name=input_container)\n",
    "    blob_name = ''\n",
    "    json_paths = []\n",
    "    blob_list = container.list_blobs(name_starts_with = device_id)\n",
    "    for blob in blob_list:\n",
    "        # read raw data from blob storage\n",
    "        blob_name = blob.name\n",
    "        blob_client = container.get_blob_client(blob_name)\n",
    "        filestream = blob_client.download_blob()\n",
    "        filecontents = filestream.content_as_text()\n",
    "\n",
    "        if filecontents:\n",
    "            format_json_data(filecontents, data)\n"
   ]
  },
  {
   "cell_type": "code",
   "execution_count": 7,
   "metadata": {},
   "outputs": [],
   "source": [
    "def build_figure(sample_data, sensitivity):\n",
    "    sample_data['sensitivity'] = sensitivity\n",
    "    \n",
    "    result = detect(endpoint, apikey, sample_data)\n",
    "        \n",
    "    columns = {'expectedValues': result['expectedValues'], 'isAnomaly': result['isAnomaly'], 'isNegativeAnomaly': result['isNegativeAnomaly'],\n",
    "          'isPositiveAnomaly': result['isPositiveAnomaly'], 'upperMargins': result['upperMargins'], 'lowerMargins': result['lowerMargins'],\n",
    "          'timestamp': [parser.parse(x['timestamp']) for x in sample_data['series']], \n",
    "          'value': [x['value'] for x in sample_data['series']]}\n",
    "    response = pd.DataFrame(data=columns)\n",
    "    values = response['value']\n",
    "    label = response['timestamp']\n",
    "    anomalies = []\n",
    "    anomaly_labels = []\n",
    "    index = 0\n",
    "    anomaly_indexes = []\n",
    "    p = figure(x_axis_type='datetime', title=\"Batch Anomaly Detection ({0} Sensitvity)\".format(sensitivity), width=800, height=600)\n",
    "    for anom in response['isAnomaly']:\n",
    "        if anom == True and (values[index] > response.iloc[index]['expectedValues'] + response.iloc[index]['upperMargins'] or \n",
    "                         values[index] < response.iloc[index]['expectedValues'] - response.iloc[index]['lowerMargins']):\n",
    "            anomalies.append(values[index])\n",
    "            anomaly_labels.append(label[index])\n",
    "            anomaly_indexes.append(index)\n",
    "        index = index+1\n",
    "    upperband = response['expectedValues'] + response['upperMargins']\n",
    "    lowerband = response['expectedValues'] -response['lowerMargins']\n",
    "    band_x = np.append(label, label[::-1])\n",
    "    band_y = np.append(lowerband, upperband[::-1])\n",
    "    boundary = p.patch(band_x, band_y, color=Blues4[2], fill_alpha=0.5, line_width=1, legend='Boundary')\n",
    "    p.line(label, values, legend='Value', color=\"#2222aa\", line_width=1)\n",
    "    p.line(label, response['expectedValues'], legend='ExpectedValue',  line_width=1, line_dash=\"dotdash\", line_color='olivedrab')\n",
    "    anom_source = ColumnDataSource(dict(x=anomaly_labels, y=anomalies))\n",
    "    anoms = p.circle('x', 'y', size=5, color='tomato', source=anom_source)\n",
    "    p.legend.border_line_width = 1\n",
    "    p.legend.background_fill_alpha  = 0.1\n",
    "    show(p, notebook_handle=True)"
   ]
  },
  {
   "cell_type": "code",
   "execution_count": 8,
   "metadata": {},
   "outputs": [],
   "source": [
    "def read_data():\n",
    "    with open('temperature.json',mode='r') as file: \n",
    "        filecontents = file.read()\n",
    "    format_json_data(filecontents, data)"
   ]
  },
  {
   "cell_type": "code",
   "execution_count": 9,
   "metadata": {},
   "outputs": [],
   "source": [
    "def add_entries_from_log(telemetry_data):\n",
    "    parse_json_records = [json.loads(str(item)) for item in telemetry_data.strip().split('\\n') ]\n",
    "    for item in parse_json_records:\n",
    "        if item[\"deviceId\"] == device_id:\n",
    "            di = {}\n",
    "            di['timestamp'] = item[\"enqueuedTime\"]\n",
    "            di['value'] = item['telemetry']['temperature']\n",
    "            # print(di)\n",
    "            data.append(di)"
   ]
  },
  {
   "cell_type": "code",
   "execution_count": 10,
   "metadata": {},
   "outputs": [],
   "source": [
    "def read_iot_central_log():\n",
    "    input_container = \"weather-tracker\"\n",
    "    container = ContainerClient.from_connection_string(\n",
    "        conn_str=blob_conn_str, container_name=input_container)\n",
    "    blob_name = ''\n",
    "    json_paths = []\n",
    "    blob_list = container.list_blobs(name_starts_with = blob_filter )\n",
    "    for blob in blob_list:\n",
    "        # read raw data from blob storage\n",
    "        blob_name = blob.name\n",
    "        # print(blob.name + '\\n')\n",
    "        blob_client = container.get_blob_client(blob_name)\n",
    "        filestream = blob_client.download_blob()\n",
    "        filecontents = filestream.content_as_text()\n",
    "\n",
    "        if filecontents:\n",
    "            add_entries_from_log(filecontents)"
   ]
  },
  {
   "cell_type": "markdown",
   "metadata": {},
   "source": [
    "## Vizualizing anomalies throughout your data\n",
    "\n",
    "The following cells call the Anomaly Detector API with two different example time series data sets, and different sensitivities for anomaly detection. Varying the sensitivity of the Anomaly Detector API can improve how well the response fits your data."
   ]
  },
  {
   "cell_type": "markdown",
   "metadata": {},
   "source": [
    "### Example 1: time series with an hourly sampling frequency\n"
   ]
  },
  {
   "cell_type": "code",
   "execution_count": 11,
   "metadata": {},
   "outputs": [
    {
     "ename": "ClientAuthenticationError",
     "evalue": "Server failed to authenticate the request. Make sure the value of Authorization header is formed correctly including the signature.\nRequestId:907849c8-201e-0002-56f1-52d3ce000000\nTime:2022-04-18T06:59:29.5741998Z\nErrorCode:AuthenticationFailed\nauthenticationerrordetail:Request date header too old: 'Mon, 18 Apr 2022 05:48:20 GMT'\nContent: <?xml version=\"1.0\" encoding=\"utf-8\"?><Error><Code>AuthenticationFailed</Code><Message>Server failed to authenticate the request. Make sure the value of Authorization header is formed correctly including the signature.\nRequestId:907849c8-201e-0002-56f1-52d3ce000000\nTime:2022-04-18T06:59:29.5741998Z</Message><AuthenticationErrorDetail>Request date header too old: 'Mon, 18 Apr 2022 05:48:20 GMT'</AuthenticationErrorDetail></Error>",
     "output_type": "error",
     "traceback": [
      "\u001b[0;31m---------------------------------------------------------------------------\u001b[0m",
      "\u001b[0;31mClientAuthenticationError\u001b[0m                 Traceback (most recent call last)",
      "\u001b[1;32m/home/dave/github/Altair8800/AnomalyDetector/Batch anomaly detection with the Anomaly Detector API.ipynb Cell 18'\u001b[0m in \u001b[0;36m<cell line: 5>\u001b[0;34m()\u001b[0m\n\u001b[1;32m      <a href='vscode-notebook-cell://wsl%2Bubuntu/home/dave/github/Altair8800/AnomalyDetector/Batch%20anomaly%20detection%20with%20the%20Anomaly%20Detector%20API.ipynb#ch0000017vscode-remote?line=0'>1</a>\u001b[0m data \u001b[39m=\u001b[39m []\n\u001b[1;32m      <a href='vscode-notebook-cell://wsl%2Bubuntu/home/dave/github/Altair8800/AnomalyDetector/Batch%20anomaly%20detection%20with%20the%20Anomaly%20Detector%20API.ipynb#ch0000017vscode-remote?line=2'>3</a>\u001b[0m \u001b[39m# Get data from blob storage\u001b[39;00m\n\u001b[1;32m      <a href='vscode-notebook-cell://wsl%2Bubuntu/home/dave/github/Altair8800/AnomalyDetector/Batch%20anomaly%20detection%20with%20the%20Anomaly%20Detector%20API.ipynb#ch0000017vscode-remote?line=3'>4</a>\u001b[0m \u001b[39m# process_raw_data()\u001b[39;00m\n\u001b[0;32m----> <a href='vscode-notebook-cell://wsl%2Bubuntu/home/dave/github/Altair8800/AnomalyDetector/Batch%20anomaly%20detection%20with%20the%20Anomaly%20Detector%20API.ipynb#ch0000017vscode-remote?line=4'>5</a>\u001b[0m read_iot_central_log()\n\u001b[1;32m      <a href='vscode-notebook-cell://wsl%2Bubuntu/home/dave/github/Altair8800/AnomalyDetector/Batch%20anomaly%20detection%20with%20the%20Anomaly%20Detector%20API.ipynb#ch0000017vscode-remote?line=6'>7</a>\u001b[0m \u001b[39m# Clean data\u001b[39;00m\n\u001b[1;32m      <a href='vscode-notebook-cell://wsl%2Bubuntu/home/dave/github/Altair8800/AnomalyDetector/Batch%20anomaly%20detection%20with%20the%20Anomaly%20Detector%20API.ipynb#ch0000017vscode-remote?line=7'>8</a>\u001b[0m \n\u001b[1;32m      <a href='vscode-notebook-cell://wsl%2Bubuntu/home/dave/github/Altair8800/AnomalyDetector/Batch%20anomaly%20detection%20with%20the%20Anomaly%20Detector%20API.ipynb#ch0000017vscode-remote?line=8'>9</a>\u001b[0m \u001b[39m# convert list object to a pandas dataframe\u001b[39;00m\n\u001b[1;32m     <a href='vscode-notebook-cell://wsl%2Bubuntu/home/dave/github/Altair8800/AnomalyDetector/Batch%20anomaly%20detection%20with%20the%20Anomaly%20Detector%20API.ipynb#ch0000017vscode-remote?line=9'>10</a>\u001b[0m df \u001b[39m=\u001b[39m pd\u001b[39m.\u001b[39mDataFrame(data)\n",
      "\u001b[1;32m/home/dave/github/Altair8800/AnomalyDetector/Batch anomaly detection with the Anomaly Detector API.ipynb Cell 15'\u001b[0m in \u001b[0;36mread_iot_central_log\u001b[0;34m()\u001b[0m\n\u001b[1;32m      <a href='vscode-notebook-cell://wsl%2Bubuntu/home/dave/github/Altair8800/AnomalyDetector/Batch%20anomaly%20detection%20with%20the%20Anomaly%20Detector%20API.ipynb#ch0000014vscode-remote?line=5'>6</a>\u001b[0m json_paths \u001b[39m=\u001b[39m []\n\u001b[1;32m      <a href='vscode-notebook-cell://wsl%2Bubuntu/home/dave/github/Altair8800/AnomalyDetector/Batch%20anomaly%20detection%20with%20the%20Anomaly%20Detector%20API.ipynb#ch0000014vscode-remote?line=6'>7</a>\u001b[0m blob_list \u001b[39m=\u001b[39m container\u001b[39m.\u001b[39mlist_blobs(name_starts_with \u001b[39m=\u001b[39m blob_filter )\n\u001b[0;32m----> <a href='vscode-notebook-cell://wsl%2Bubuntu/home/dave/github/Altair8800/AnomalyDetector/Batch%20anomaly%20detection%20with%20the%20Anomaly%20Detector%20API.ipynb#ch0000014vscode-remote?line=7'>8</a>\u001b[0m \u001b[39mfor\u001b[39;00m blob \u001b[39min\u001b[39;00m blob_list:\n\u001b[1;32m      <a href='vscode-notebook-cell://wsl%2Bubuntu/home/dave/github/Altair8800/AnomalyDetector/Batch%20anomaly%20detection%20with%20the%20Anomaly%20Detector%20API.ipynb#ch0000014vscode-remote?line=8'>9</a>\u001b[0m     \u001b[39m# read raw data from blob storage\u001b[39;00m\n\u001b[1;32m     <a href='vscode-notebook-cell://wsl%2Bubuntu/home/dave/github/Altair8800/AnomalyDetector/Batch%20anomaly%20detection%20with%20the%20Anomaly%20Detector%20API.ipynb#ch0000014vscode-remote?line=9'>10</a>\u001b[0m     blob_name \u001b[39m=\u001b[39m blob\u001b[39m.\u001b[39mname\n\u001b[1;32m     <a href='vscode-notebook-cell://wsl%2Bubuntu/home/dave/github/Altair8800/AnomalyDetector/Batch%20anomaly%20detection%20with%20the%20Anomaly%20Detector%20API.ipynb#ch0000014vscode-remote?line=10'>11</a>\u001b[0m     \u001b[39m# print(blob.name + '\\n')\u001b[39;00m\n",
      "File \u001b[0;32m~/.local/lib/python3.8/site-packages/azure/core/paging.py:129\u001b[0m, in \u001b[0;36mItemPaged.__next__\u001b[0;34m(self)\u001b[0m\n\u001b[1;32m    <a href='file:///home/dave/.local/lib/python3.8/site-packages/azure/core/paging.py?line=126'>127</a>\u001b[0m \u001b[39mif\u001b[39;00m \u001b[39mself\u001b[39m\u001b[39m.\u001b[39m_page_iterator \u001b[39mis\u001b[39;00m \u001b[39mNone\u001b[39;00m:\n\u001b[1;32m    <a href='file:///home/dave/.local/lib/python3.8/site-packages/azure/core/paging.py?line=127'>128</a>\u001b[0m     \u001b[39mself\u001b[39m\u001b[39m.\u001b[39m_page_iterator \u001b[39m=\u001b[39m itertools\u001b[39m.\u001b[39mchain\u001b[39m.\u001b[39mfrom_iterable(\u001b[39mself\u001b[39m\u001b[39m.\u001b[39mby_page())\n\u001b[0;32m--> <a href='file:///home/dave/.local/lib/python3.8/site-packages/azure/core/paging.py?line=128'>129</a>\u001b[0m \u001b[39mreturn\u001b[39;00m \u001b[39mnext\u001b[39;49m(\u001b[39mself\u001b[39;49m\u001b[39m.\u001b[39;49m_page_iterator)\n",
      "File \u001b[0;32m~/.local/lib/python3.8/site-packages/azure/core/paging.py:76\u001b[0m, in \u001b[0;36mPageIterator.__next__\u001b[0;34m(self)\u001b[0m\n\u001b[1;32m     <a href='file:///home/dave/.local/lib/python3.8/site-packages/azure/core/paging.py?line=73'>74</a>\u001b[0m     \u001b[39mraise\u001b[39;00m \u001b[39mStopIteration\u001b[39;00m(\u001b[39m\"\u001b[39m\u001b[39mEnd of paging\u001b[39m\u001b[39m\"\u001b[39m)\n\u001b[1;32m     <a href='file:///home/dave/.local/lib/python3.8/site-packages/azure/core/paging.py?line=74'>75</a>\u001b[0m \u001b[39mtry\u001b[39;00m:\n\u001b[0;32m---> <a href='file:///home/dave/.local/lib/python3.8/site-packages/azure/core/paging.py?line=75'>76</a>\u001b[0m     \u001b[39mself\u001b[39m\u001b[39m.\u001b[39m_response \u001b[39m=\u001b[39m \u001b[39mself\u001b[39;49m\u001b[39m.\u001b[39;49m_get_next(\u001b[39mself\u001b[39;49m\u001b[39m.\u001b[39;49mcontinuation_token)\n\u001b[1;32m     <a href='file:///home/dave/.local/lib/python3.8/site-packages/azure/core/paging.py?line=76'>77</a>\u001b[0m \u001b[39mexcept\u001b[39;00m AzureError \u001b[39mas\u001b[39;00m error:\n\u001b[1;32m     <a href='file:///home/dave/.local/lib/python3.8/site-packages/azure/core/paging.py?line=77'>78</a>\u001b[0m     \u001b[39mif\u001b[39;00m \u001b[39mnot\u001b[39;00m error\u001b[39m.\u001b[39mcontinuation_token:\n",
      "File \u001b[0;32m~/.local/lib/python3.8/site-packages/azure/storage/blob/_list_blobs_helper.py:83\u001b[0m, in \u001b[0;36mBlobPropertiesPaged._get_next_cb\u001b[0;34m(self, continuation_token)\u001b[0m\n\u001b[1;32m     <a href='file:///home/dave/.local/lib/python3.8/site-packages/azure/storage/blob/_list_blobs_helper.py?line=75'>76</a>\u001b[0m     \u001b[39mreturn\u001b[39;00m \u001b[39mself\u001b[39m\u001b[39m.\u001b[39m_command(\n\u001b[1;32m     <a href='file:///home/dave/.local/lib/python3.8/site-packages/azure/storage/blob/_list_blobs_helper.py?line=76'>77</a>\u001b[0m         prefix\u001b[39m=\u001b[39m\u001b[39mself\u001b[39m\u001b[39m.\u001b[39mprefix,\n\u001b[1;32m     <a href='file:///home/dave/.local/lib/python3.8/site-packages/azure/storage/blob/_list_blobs_helper.py?line=77'>78</a>\u001b[0m         marker\u001b[39m=\u001b[39mcontinuation_token \u001b[39mor\u001b[39;00m \u001b[39mNone\u001b[39;00m,\n\u001b[1;32m     <a href='file:///home/dave/.local/lib/python3.8/site-packages/azure/storage/blob/_list_blobs_helper.py?line=78'>79</a>\u001b[0m         maxresults\u001b[39m=\u001b[39m\u001b[39mself\u001b[39m\u001b[39m.\u001b[39mresults_per_page,\n\u001b[1;32m     <a href='file:///home/dave/.local/lib/python3.8/site-packages/azure/storage/blob/_list_blobs_helper.py?line=79'>80</a>\u001b[0m         \u001b[39mcls\u001b[39m\u001b[39m=\u001b[39mreturn_context_and_deserialized,\n\u001b[1;32m     <a href='file:///home/dave/.local/lib/python3.8/site-packages/azure/storage/blob/_list_blobs_helper.py?line=80'>81</a>\u001b[0m         use_location\u001b[39m=\u001b[39m\u001b[39mself\u001b[39m\u001b[39m.\u001b[39mlocation_mode)\n\u001b[1;32m     <a href='file:///home/dave/.local/lib/python3.8/site-packages/azure/storage/blob/_list_blobs_helper.py?line=81'>82</a>\u001b[0m \u001b[39mexcept\u001b[39;00m HttpResponseError \u001b[39mas\u001b[39;00m error:\n\u001b[0;32m---> <a href='file:///home/dave/.local/lib/python3.8/site-packages/azure/storage/blob/_list_blobs_helper.py?line=82'>83</a>\u001b[0m     process_storage_error(error)\n",
      "File \u001b[0;32m~/.local/lib/python3.8/site-packages/azure/storage/blob/_shared/response_handlers.py:181\u001b[0m, in \u001b[0;36mprocess_storage_error\u001b[0;34m(storage_error)\u001b[0m\n\u001b[1;32m    <a href='file:///home/dave/.local/lib/python3.8/site-packages/azure/storage/blob/_shared/response_handlers.py?line=177'>178</a>\u001b[0m error\u001b[39m.\u001b[39margs \u001b[39m=\u001b[39m (error\u001b[39m.\u001b[39mmessage,)\n\u001b[1;32m    <a href='file:///home/dave/.local/lib/python3.8/site-packages/azure/storage/blob/_shared/response_handlers.py?line=178'>179</a>\u001b[0m \u001b[39mtry\u001b[39;00m:\n\u001b[1;32m    <a href='file:///home/dave/.local/lib/python3.8/site-packages/azure/storage/blob/_shared/response_handlers.py?line=179'>180</a>\u001b[0m     \u001b[39m# `from None` prevents us from double printing the exception (suppresses generated layer error context)\u001b[39;00m\n\u001b[0;32m--> <a href='file:///home/dave/.local/lib/python3.8/site-packages/azure/storage/blob/_shared/response_handlers.py?line=180'>181</a>\u001b[0m     exec(\u001b[39m\"\u001b[39;49m\u001b[39mraise error from None\u001b[39;49m\u001b[39m\"\u001b[39;49m)   \u001b[39m# pylint: disable=exec-used # nosec\u001b[39;00m\n\u001b[1;32m    <a href='file:///home/dave/.local/lib/python3.8/site-packages/azure/storage/blob/_shared/response_handlers.py?line=181'>182</a>\u001b[0m \u001b[39mexcept\u001b[39;00m \u001b[39mSyntaxError\u001b[39;00m:\n\u001b[1;32m    <a href='file:///home/dave/.local/lib/python3.8/site-packages/azure/storage/blob/_shared/response_handlers.py?line=182'>183</a>\u001b[0m     \u001b[39mraise\u001b[39;00m error\n",
      "File \u001b[0;32m<string>:1\u001b[0m, in \u001b[0;36m<module>\u001b[0;34m\u001b[0m\n",
      "\u001b[0;31mClientAuthenticationError\u001b[0m: Server failed to authenticate the request. Make sure the value of Authorization header is formed correctly including the signature.\nRequestId:907849c8-201e-0002-56f1-52d3ce000000\nTime:2022-04-18T06:59:29.5741998Z\nErrorCode:AuthenticationFailed\nauthenticationerrordetail:Request date header too old: 'Mon, 18 Apr 2022 05:48:20 GMT'\nContent: <?xml version=\"1.0\" encoding=\"utf-8\"?><Error><Code>AuthenticationFailed</Code><Message>Server failed to authenticate the request. Make sure the value of Authorization header is formed correctly including the signature.\nRequestId:907849c8-201e-0002-56f1-52d3ce000000\nTime:2022-04-18T06:59:29.5741998Z</Message><AuthenticationErrorDetail>Request date header too old: 'Mon, 18 Apr 2022 05:48:20 GMT'</AuthenticationErrorDetail></Error>"
     ]
    }
   ],
   "source": [
    "data = []\n",
    "\n",
    "# Get data from blob storage\n",
    "# process_raw_data()\n",
    "read_iot_central_log()\n",
    "\n",
    "# Clean data\n",
    "\n",
    "# convert list object to a pandas dataframe\n",
    "df = pd.DataFrame(data)\n",
    "\n",
    "# Convert datetime string to dataframe timestamp type\n",
    "# https://cumsum.wordpress.com/2022/02/26/pandas-typeerror-only-valid-with-datetimeindex-timedeltaindex-or-periodindex-but-got-an-instance-of-index/\n",
    "df.index = pd.to_datetime(df['timestamp'])\n",
    "\n",
    "# Resample into 10 minute buckets\n",
    "# https://towardsdatascience.com/using-the-pandas-resample-function-a231144194c4\n",
    "res = df.resample('10min').max()\n",
    "\n",
    "# remove existing timestamp column convert the datetime index to a timestamp column\n",
    "# https://pandas.pydata.org/docs/reference/api/pandas.DataFrame.drop.html\n",
    "# https://stackoverflow.com/questions/44773714/convert-index-to-column-pandas-dataframe\n",
    "res = res.drop(columns=['timestamp']).reset_index()\n",
    "\n",
    "# Convert timestamp column of type timestamp to type string\n",
    "res['timestamp']=res['timestamp'].astype(str)\n",
    "\n",
    "# convert dataframe to a list of json objects\n",
    "ts_dict = res.to_dict('records')\n",
    "\n",
    "# Create data for anomaly detection\n",
    "\n",
    "sample_data = {}\n",
    "sample_data['series'] = ts_dict\n",
    "sample_data['granularity'] = 'minutely'\n",
    "sample_data['customInterval'] = 10\n",
    "\n",
    "# sample_data['period'] = 24\n",
    "# 95 sensitivity\n",
    "build_figure(sample_data,95)"
   ]
  },
  {
   "cell_type": "code",
   "execution_count": null,
   "metadata": {},
   "outputs": [
    {
     "data": {
      "text/html": [
       "\n",
       "\n",
       "\n",
       "\n",
       "\n",
       "\n",
       "  <div class=\"bk-root\" id=\"5a87d0aa-9819-43c4-a357-7dba4493fe6f\" data-root-id=\"2384\"></div>\n"
      ]
     },
     "metadata": {},
     "output_type": "display_data"
    },
    {
     "data": {
      "application/javascript": "(function(root) {\n  function embed_document(root) {\n    \n  const docs_json = {\"b44dd50c-43d5-4cf2-bab6-2f43f808a22d\":{\"defs\":[],\"roots\":{\"references\":[{\"attributes\":{\"below\":[{\"id\":\"2395\"}],\"center\":[{\"id\":\"2398\"},{\"id\":\"2402\"},{\"id\":\"2445\"}],\"left\":[{\"id\":\"2399\"}],\"renderers\":[{\"id\":\"2421\"},{\"id\":\"2451\"},{\"id\":\"2482\"},{\"id\":\"2516\"}],\"title\":{\"id\":\"2385\"},\"toolbar\":{\"id\":\"2410\"},\"width\":800,\"x_range\":{\"id\":\"2387\"},\"x_scale\":{\"id\":\"2391\"},\"y_range\":{\"id\":\"2389\"},\"y_scale\":{\"id\":\"2393\"}},\"id\":\"2384\",\"subtype\":\"Figure\",\"type\":\"Plot\"},{\"attributes\":{\"axis\":{\"id\":\"2399\"},\"coordinates\":null,\"dimension\":1,\"group\":null,\"ticker\":null},\"id\":\"2402\",\"type\":\"Grid\"},{\"attributes\":{\"num_minor_ticks\":5,\"tickers\":[{\"id\":\"2433\"},{\"id\":\"2434\"},{\"id\":\"2435\"},{\"id\":\"2436\"},{\"id\":\"2437\"},{\"id\":\"2438\"},{\"id\":\"2439\"},{\"id\":\"2440\"},{\"id\":\"2441\"},{\"id\":\"2442\"},{\"id\":\"2443\"},{\"id\":\"2444\"}]},\"id\":\"2396\",\"type\":\"DatetimeTicker\"},{\"attributes\":{\"days\":[1,4,7,10,13,16,19,22,25,28]},\"id\":\"2437\",\"type\":\"DaysTicker\"},{\"attributes\":{\"fill_alpha\":0.1,\"fill_color\":\"#bdd7e7\",\"hatch_alpha\":0.1,\"hatch_color\":\"#bdd7e7\",\"line_alpha\":0.1,\"line_color\":\"#bdd7e7\",\"x\":{\"field\":\"x\"},\"y\":{\"field\":\"y\"}},\"id\":\"2419\",\"type\":\"Patch\"},{\"attributes\":{},\"id\":\"2444\",\"type\":\"YearsTicker\"},{\"attributes\":{\"bottom_units\":\"screen\",\"coordinates\":null,\"fill_alpha\":0.5,\"fill_color\":\"lightgrey\",\"group\":null,\"left_units\":\"screen\",\"level\":\"overlay\",\"line_alpha\":1.0,\"line_color\":\"black\",\"line_dash\":[4,4],\"line_width\":2,\"right_units\":\"screen\",\"syncable\":false,\"top_units\":\"screen\"},\"id\":\"2409\",\"type\":\"BoxAnnotation\"},{\"attributes\":{},\"id\":\"2391\",\"type\":\"LinearScale\"},{\"attributes\":{\"coordinates\":null,\"data_source\":{\"id\":\"2511\"},\"glyph\":{\"id\":\"2513\"},\"group\":null,\"hover_glyph\":null,\"muted_glyph\":{\"id\":\"2515\"},\"nonselection_glyph\":{\"id\":\"2514\"},\"view\":{\"id\":\"2517\"}},\"id\":\"2516\",\"type\":\"GlyphRenderer\"},{\"attributes\":{\"fill_alpha\":0.2,\"fill_color\":\"#bdd7e7\",\"hatch_alpha\":0.2,\"hatch_color\":\"#bdd7e7\",\"line_alpha\":0.2,\"line_color\":\"#bdd7e7\",\"x\":{\"field\":\"x\"},\"y\":{\"field\":\"y\"}},\"id\":\"2420\",\"type\":\"Patch\"},{\"attributes\":{},\"id\":\"2393\",\"type\":\"LinearScale\"},{\"attributes\":{\"source\":{\"id\":\"2447\"}},\"id\":\"2452\",\"type\":\"CDSView\"},{\"attributes\":{\"coordinates\":null,\"group\":null,\"text\":\"Batch Anomaly Detection (90 Sensitvity)\"},\"id\":\"2385\",\"type\":\"Title\"},{\"attributes\":{\"line_alpha\":0.1,\"line_color\":\"#2222aa\",\"x\":{\"field\":\"x\"},\"y\":{\"field\":\"y\"}},\"id\":\"2449\",\"type\":\"Line\"},{\"attributes\":{},\"id\":\"2406\",\"type\":\"SaveTool\"},{\"attributes\":{\"line_alpha\":0.2,\"line_color\":\"olivedrab\",\"line_dash\":[2,4,6,4],\"x\":{\"field\":\"x\"},\"y\":{\"field\":\"y\"}},\"id\":\"2481\",\"type\":\"Line\"},{\"attributes\":{\"coordinates\":null,\"data_source\":{\"id\":\"2447\"},\"glyph\":{\"id\":\"2448\"},\"group\":null,\"hover_glyph\":null,\"muted_glyph\":{\"id\":\"2450\"},\"nonselection_glyph\":{\"id\":\"2449\"},\"view\":{\"id\":\"2452\"}},\"id\":\"2451\",\"type\":\"GlyphRenderer\"},{\"attributes\":{},\"id\":\"2431\",\"type\":\"Selection\"},{\"attributes\":{},\"id\":\"2644\",\"type\":\"Selection\"},{\"attributes\":{\"axis\":{\"id\":\"2395\"},\"coordinates\":null,\"group\":null,\"ticker\":null},\"id\":\"2398\",\"type\":\"Grid\"},{\"attributes\":{\"source\":{\"id\":\"2511\"}},\"id\":\"2517\",\"type\":\"CDSView\"},{\"attributes\":{\"months\":[0,1,2,3,4,5,6,7,8,9,10,11]},\"id\":\"2440\",\"type\":\"MonthsTicker\"},{\"attributes\":{\"line_alpha\":0.2,\"line_color\":\"#2222aa\",\"x\":{\"field\":\"x\"},\"y\":{\"field\":\"y\"}},\"id\":\"2450\",\"type\":\"Line\"},{\"attributes\":{\"data\":{\"x\":[1650082200000.0,1650094200000.0,1650105000000.0,1650113400000.0,1650115800000.0,1650124200000.0,1650128400000.0],\"y\":[67,61,64,64,64,62,56]},\"selected\":{\"id\":\"2644\"},\"selection_policy\":{\"id\":\"2643\"}},\"id\":\"2511\",\"type\":\"ColumnDataSource\"},{\"attributes\":{\"data\":{\"x\":{\"__ndarray__\":\"AAAEI/oCeEIAAIC1+gJ4QgAA/Ef7AnhCAAB42vsCeEIAAPRs/AJ4QgAAcP/8AnhCAADskf0CeEIAAGgk/gJ4QgAA5Lb+AnhCAABgSf8CeEIAANzb/wJ4QgAAWG4AA3hCAADUAAEDeEIAAFCTAQN4QgAAzCUCA3hCAABIuAIDeEIAAMRKAwN4QgAAQN0DA3hCAAC8bwQDeEIAADgCBQN4QgAAtJQFA3hCAAAwJwYDeEIAAKy5BgN4QgAAKEwHA3hCAACk3gcDeEIAACBxCAN4QgAAnAMJA3hCAAAYlgkDeEIAAJQoCgN4QgAAELsKA3hCAACMTQsDeEIAAAjgCwN4QgAAhHIMA3hCAAAABQ0DeEIAAHyXDQN4QgAA+CkOA3hCAAB0vA4DeEIAAPBODwN4QgAAbOEPA3hCAADocxADeEIAAGQGEQN4QgAA4JgRA3hCAABcKxIDeEIAANi9EgN4QgAAVFATA3hCAADQ4hMDeEIAAEx1FAN4QgAAyAcVA3hCAABEmhUDeEIAAMAsFgN4QgAAPL8WA3hCAAC4URcDeEIAADTkFwN4QgAAsHYYA3hCAAAsCRkDeEIAAKibGQN4QgAAJC4aA3hCAACgwBoDeEIAABxTGwN4QgAAmOUbA3hCAAAUeBwDeEIAAJAKHQN4QgAADJ0dA3hCAACILx4DeEIAAATCHgN4QgAAgFQfA3hCAAD85h8DeEIAAHh5IAN4QgAA9AshA3hCAABwniEDeEIAAOwwIgN4QgAAaMMiA3hCAADkVSMDeEIAAGDoIwN4QgAA3HokA3hCAABYDSUDeEIAANSfJQN4QgAAUDImA3hCAADMxCYDeEIAAEhXJwN4QgAAxOknA3hCAABAfCgDeEIAALwOKQN4QgAAOKEpA3hCAAC0MyoDeEIAADDGKgN4QgAArFgrA3hCAAAo6ysDeEIAAKR9LAN4QgAAIBAtA3hCAACcoi0DeEIAABg1LgN4QgAAlMcuA3hCAAAQWi8DeEIAAIzsLwN4QgAACH8wA3hCAACEETEDeEIAAACkMQN4QgAAfDYyA3hCAAD4yDIDeEIAAHRbMwN4QgAA8O0zA3hCAABsgDQDeEIAAOgSNQN4QgAAZKU1A3hCAADgNzYDeEIAAFzKNgN4QgAA2Fw3A3hCAABU7zcDeEIAANCBOAN4QgAATBQ5A3hCAADIpjkDeEIAAEQ5OgN4QgAAwMs6A3hCAAA8XjsDeEIAALjwOwN4QgAANIM8A3hCAACwFT0DeEIAACyoPQN4QgAAqDo+A3hCAAAkzT4DeEIAAKBfPwN4QgAAHPI/A3hCAACYhEADeEIAABQXQQN4QgAAkKlBA3hCAAAMPEIDeEIAAIjOQgN4QgAABGFDA3hCAACA80MDeEIAAPyFRAN4QgAAeBhFA3hCAAD0qkUDeEIAAHA9RgN4QgAA7M9GA3hCAABoYkcDeEIAAOT0RwN4QgAAYIdIA3hCAADcGUkDeEIAAFisSQN4QgAA1D5KA3hCAABQ0UoDeEIAAMxjSwN4QgAASPZLA3hCAADEiEwDeEI=\",\"dtype\":\"float64\",\"order\":\"little\",\"shape\":[145]},\"y\":[21,21,21,21,66,22,64,22,22,23,23,23,23,23,24,24,24,24,24,24,24,24,24,24,24,23,67,24,24,24,24,23,25,23,23,23,23,43,22,22,22,22,22,22,22,21,61,38,21,20,20,20,20,20,19,36,19,19,19,19,18,18,18,18,64,18,18,17,17,34,17,17,17,17,17,17,17,17,64,17,17,17,64,16,16,16,16,16,16,16,16,41,16,16,16,16,62,15,16,16,16,15,15,56,15,15,15,25,15,18,15,15,15,14,14,29,14,44,14,14,14,14,22,14,14,14,14,14,14,14,15,15,19,16,16,16,17,17,17,18,19,26,19,35,20]},\"selected\":{\"id\":\"2463\"},\"selection_policy\":{\"id\":\"2462\"}},\"id\":\"2447\",\"type\":\"ColumnDataSource\"},{\"attributes\":{\"fill_alpha\":{\"value\":0.2},\"fill_color\":{\"value\":\"tomato\"},\"hatch_alpha\":{\"value\":0.2},\"hatch_color\":{\"value\":\"tomato\"},\"line_alpha\":{\"value\":0.2},\"line_color\":{\"value\":\"tomato\"},\"size\":{\"value\":5},\"x\":{\"field\":\"x\"},\"y\":{\"field\":\"y\"}},\"id\":\"2515\",\"type\":\"Circle\"},{\"attributes\":{\"coordinates\":null,\"data_source\":{\"id\":\"2478\"},\"glyph\":{\"id\":\"2479\"},\"group\":null,\"hover_glyph\":null,\"muted_glyph\":{\"id\":\"2481\"},\"nonselection_glyph\":{\"id\":\"2480\"},\"view\":{\"id\":\"2483\"}},\"id\":\"2482\",\"type\":\"GlyphRenderer\"},{\"attributes\":{\"line_color\":\"#2222aa\",\"x\":{\"field\":\"x\"},\"y\":{\"field\":\"y\"}},\"id\":\"2448\",\"type\":\"Line\"},{\"attributes\":{\"fill_color\":{\"value\":\"tomato\"},\"hatch_color\":{\"value\":\"tomato\"},\"line_color\":{\"value\":\"tomato\"},\"size\":{\"value\":5},\"x\":{\"field\":\"x\"},\"y\":{\"field\":\"y\"}},\"id\":\"2513\",\"type\":\"Circle\"},{\"attributes\":{\"source\":{\"id\":\"2417\"}},\"id\":\"2422\",\"type\":\"CDSView\"},{\"attributes\":{\"source\":{\"id\":\"2478\"}},\"id\":\"2483\",\"type\":\"CDSView\"},{\"attributes\":{},\"id\":\"2400\",\"type\":\"BasicTicker\"},{\"attributes\":{},\"id\":\"2496\",\"type\":\"Selection\"},{\"attributes\":{\"months\":[0,2,4,6,8,10]},\"id\":\"2441\",\"type\":\"MonthsTicker\"},{\"attributes\":{\"data\":{\"x\":{\"__ndarray__\":\"AAAEI/oCeEIAAIC1+gJ4QgAA/Ef7AnhCAAB42vsCeEIAAPRs/AJ4QgAAcP/8AnhCAADskf0CeEIAAGgk/gJ4QgAA5Lb+AnhCAABgSf8CeEIAANzb/wJ4QgAAWG4AA3hCAADUAAEDeEIAAFCTAQN4QgAAzCUCA3hCAABIuAIDeEIAAMRKAwN4QgAAQN0DA3hCAAC8bwQDeEIAADgCBQN4QgAAtJQFA3hCAAAwJwYDeEIAAKy5BgN4QgAAKEwHA3hCAACk3gcDeEIAACBxCAN4QgAAnAMJA3hCAAAYlgkDeEIAAJQoCgN4QgAAELsKA3hCAACMTQsDeEIAAAjgCwN4QgAAhHIMA3hCAAAABQ0DeEIAAHyXDQN4QgAA+CkOA3hCAAB0vA4DeEIAAPBODwN4QgAAbOEPA3hCAADocxADeEIAAGQGEQN4QgAA4JgRA3hCAABcKxIDeEIAANi9EgN4QgAAVFATA3hCAADQ4hMDeEIAAEx1FAN4QgAAyAcVA3hCAABEmhUDeEIAAMAsFgN4QgAAPL8WA3hCAAC4URcDeEIAADTkFwN4QgAAsHYYA3hCAAAsCRkDeEIAAKibGQN4QgAAJC4aA3hCAACgwBoDeEIAABxTGwN4QgAAmOUbA3hCAAAUeBwDeEIAAJAKHQN4QgAADJ0dA3hCAACILx4DeEIAAATCHgN4QgAAgFQfA3hCAAD85h8DeEIAAHh5IAN4QgAA9AshA3hCAABwniEDeEIAAOwwIgN4QgAAaMMiA3hCAADkVSMDeEIAAGDoIwN4QgAA3HokA3hCAABYDSUDeEIAANSfJQN4QgAAUDImA3hCAADMxCYDeEIAAEhXJwN4QgAAxOknA3hCAABAfCgDeEIAALwOKQN4QgAAOKEpA3hCAAC0MyoDeEIAADDGKgN4QgAArFgrA3hCAAAo6ysDeEIAAKR9LAN4QgAAIBAtA3hCAACcoi0DeEIAABg1LgN4QgAAlMcuA3hCAAAQWi8DeEIAAIzsLwN4QgAACH8wA3hCAACEETEDeEIAAACkMQN4QgAAfDYyA3hCAAD4yDIDeEIAAHRbMwN4QgAA8O0zA3hCAABsgDQDeEIAAOgSNQN4QgAAZKU1A3hCAADgNzYDeEIAAFzKNgN4QgAA2Fw3A3hCAABU7zcDeEIAANCBOAN4QgAATBQ5A3hCAADIpjkDeEIAAEQ5OgN4QgAAwMs6A3hCAAA8XjsDeEIAALjwOwN4QgAANIM8A3hCAACwFT0DeEIAACyoPQN4QgAAqDo+A3hCAAAkzT4DeEIAAKBfPwN4QgAAHPI/A3hCAACYhEADeEIAABQXQQN4QgAAkKlBA3hCAAAMPEIDeEIAAIjOQgN4QgAABGFDA3hCAACA80MDeEIAAPyFRAN4QgAAeBhFA3hCAAD0qkUDeEIAAHA9RgN4QgAA7M9GA3hCAABoYkcDeEIAAOT0RwN4QgAAYIdIA3hCAADcGUkDeEIAAFisSQN4QgAA1D5KA3hCAABQ0UoDeEIAAMxjSwN4QgAASPZLA3hCAADEiEwDeEI=\",\"dtype\":\"float64\",\"order\":\"little\",\"shape\":[145]},\"y\":{\"__ndarray__\":\"AAAAAAAANUAAAAAAAAA1QAAAAAAAADVAAAAAAAAANUAAAAAAAAA1QDMzMzMzMzVAzczMzMxMNUAAAAAAAIA1QDMzMzMzszVAmpmZmZkZNkDNzMzMzEw2QJqZmZmZmTZAzczMzMzMNkAAAAAAAAA3QDMzMzMzMzdAZmZmZmZmN0CamZmZmZk3QM3MzMzMzDdAAAAAAAAAOEAAAAAAAAA4QAAAAAAAADhAAAAAAAAAOEAAAAAAAAA4QAAAAAAAADhAAAAAAAAAOEDNzMzMzMw3QE3sxE7sxDdATezETuzEN0BN7MRO7MQ3QE3sxE7sxDdAgB/4gR/4N0DNzMzMzMw3QAAAAAAAADhAzczMzMzMN0CamZmZmZk3QGZmZmZmZjdAZmZmZmZmN0BN+qRP+iQ3QBrHcRzH8TZA5pM+6ZO+NkCzYAu2YIs2QIAt2IItWDZAAAAAAAAANkAAAAAAAAA2QAAAAAAAADZAzczMzMzMNUDaj/3Yj/01QOZSLuVSLjZAsx/7sR/7NUBNuZRLuZQ1QBqGYRiGYTVAplzKpVzKNEAzMzMzMzM0QAAAAAAAADRAzczMzMzMM0AAAAAAAAA3QM3MzMzMzDZAmpmZmZmZNkBmZmZmZmY2QGZmZmZmZjZAzczMzMzMMkCamZmZmZkyQGZmZmZmZjJAMzMzMzMzMkBaXypo9aUyQFpfKmj1pTJAWl8qaPWlMkAmLPc0wnIyQPP4wwGPPzJAzczMzMzMNECamZmZmZk0QGZmZmZmZjRAZmZmZmZmNEBmZmZmZmY0QAAAAAAAADFAAAAAAAAAMUAAAAAAAAAxQAAAAAAAADFAWlVVVVWVMUBaVVVVVZUxQFpVVVVVlTFAWlVVVVWVMUCN7Xf0yhgyQABl72tCUDFAzTG8OA8dMUCa/ogF3OkwQGbLVdKotjBAAAAAAAAAMEAAAAAAAAAwQAAAAAAAADBAAAAAAAAAMECN5G1I3oYwQI3kbUjehjBAjeRtSN6GMECN5G1I3oYwQI3kbUjehjBAM6x9w9p3MEAAeUqQp0QwQAB5SpCnRDBADXlKkKdEMEANeUqQp0QwQE0zMzMzMy9ATTMzMzMzL0Dm5Ue6v/AvQGZ/4VNZii9AABl77fIjL0AAGXvt8iMvQICMvXb5kTFAAAAAAAAAMUCamZmZmZkxQJqZmZmZmTFAmpmZmZmZMUAzMzMzMzMvQM3MzMzMzC5AMzMzMzMzLUCaF3qhF/otQDOxEzuxky1AAL3QC71QLkAAvdALvVAuQAC90Au9UC5AM3IjN3IjLUAzciM3ciMtQDMzMzMzMy9AMzMzMzMzL0AzMzMzMzMvQDMzMzMzMy9AMzMzMzMzL0AAAAAAAAAsQAAAAAAAACxAAAAAAAAALEBmZmZmZmYsQM3MzMzMzCxAzczMzMzMLkCamZmZmZkvQDMzMzMzMzBAZmZmZmZmMEDNzMzMzMwwQGZmZmZmZjBAmpmZmZmZMEAAAAAAAAAxQJqZmZmZmTFAZmZmZmZmM0DNzMzMzMwzQGZmZmZmZjdAzczMzMzMN0A=\",\"dtype\":\"float64\",\"order\":\"little\",\"shape\":[145]}},\"selected\":{\"id\":\"2496\"},\"selection_policy\":{\"id\":\"2495\"}},\"id\":\"2478\",\"type\":\"ColumnDataSource\"},{\"attributes\":{\"label\":{\"value\":\"Value\"},\"renderers\":[{\"id\":\"2451\"}]},\"id\":\"2477\",\"type\":\"LegendItem\"},{\"attributes\":{},\"id\":\"2430\",\"type\":\"UnionRenderers\"},{\"attributes\":{\"coordinates\":null,\"data_source\":{\"id\":\"2417\"},\"glyph\":{\"id\":\"2418\"},\"group\":null,\"hover_glyph\":null,\"muted_glyph\":{\"id\":\"2420\"},\"nonselection_glyph\":{\"id\":\"2419\"},\"view\":{\"id\":\"2422\"}},\"id\":\"2421\",\"type\":\"GlyphRenderer\"},{\"attributes\":{\"coordinates\":null,\"formatter\":{\"id\":\"2425\"},\"group\":null,\"major_label_policy\":{\"id\":\"2426\"},\"ticker\":{\"id\":\"2400\"}},\"id\":\"2399\",\"type\":\"LinearAxis\"},{\"attributes\":{\"label\":{\"value\":\"ExpectedValue\"},\"renderers\":[{\"id\":\"2482\"}]},\"id\":\"2510\",\"type\":\"LegendItem\"},{\"attributes\":{\"line_alpha\":0.1,\"line_color\":\"olivedrab\",\"line_dash\":[2,4,6,4],\"x\":{\"field\":\"x\"},\"y\":{\"field\":\"y\"}},\"id\":\"2480\",\"type\":\"Line\"},{\"attributes\":{},\"id\":\"2463\",\"type\":\"Selection\"},{\"attributes\":{\"months\":[0,6]},\"id\":\"2443\",\"type\":\"MonthsTicker\"},{\"attributes\":{\"fill_alpha\":{\"value\":0.1},\"fill_color\":{\"value\":\"tomato\"},\"hatch_alpha\":{\"value\":0.1},\"hatch_color\":{\"value\":\"tomato\"},\"line_alpha\":{\"value\":0.1},\"line_color\":{\"value\":\"tomato\"},\"size\":{\"value\":5},\"x\":{\"field\":\"x\"},\"y\":{\"field\":\"y\"}},\"id\":\"2514\",\"type\":\"Circle\"},{\"attributes\":{\"line_color\":\"olivedrab\",\"line_dash\":[2,4,6,4],\"x\":{\"field\":\"x\"},\"y\":{\"field\":\"y\"}},\"id\":\"2479\",\"type\":\"Line\"},{\"attributes\":{},\"id\":\"2429\",\"type\":\"AllLabels\"},{\"attributes\":{},\"id\":\"2404\",\"type\":\"WheelZoomTool\"},{\"attributes\":{\"days\":[1,8,15,22]},\"id\":\"2438\",\"type\":\"DaysTicker\"},{\"attributes\":{},\"id\":\"2495\",\"type\":\"UnionRenderers\"},{\"attributes\":{},\"id\":\"2643\",\"type\":\"UnionRenderers\"},{\"attributes\":{},\"id\":\"2462\",\"type\":\"UnionRenderers\"},{\"attributes\":{\"data\":{\"x\":{\"__ndarray__\":\"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\",\"dtype\":\"float64\",\"order\":\"little\",\"shape\":[290]},\"y\":{\"__ndarray__\":\"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\",\"dtype\":\"float64\",\"order\":\"little\",\"shape\":[290]}},\"selected\":{\"id\":\"2431\"},\"selection_policy\":{\"id\":\"2430\"}},\"id\":\"2417\",\"type\":\"ColumnDataSource\"},{\"attributes\":{},\"id\":\"2428\",\"type\":\"DatetimeTickFormatter\"},{\"attributes\":{\"base\":24,\"mantissas\":[1,2,4,6,8,12],\"max_interval\":43200000.0,\"min_interval\":3600000.0,\"num_minor_ticks\":0},\"id\":\"2435\",\"type\":\"AdaptiveTicker\"},{\"attributes\":{\"months\":[0,4,8]},\"id\":\"2442\",\"type\":\"MonthsTicker\"},{\"attributes\":{\"days\":[1,2,3,4,5,6,7,8,9,10,11,12,13,14,15,16,17,18,19,20,21,22,23,24,25,26,27,28,29,30,31]},\"id\":\"2436\",\"type\":\"DaysTicker\"},{\"attributes\":{},\"id\":\"2408\",\"type\":\"HelpTool\"},{\"attributes\":{},\"id\":\"2407\",\"type\":\"ResetTool\"},{\"attributes\":{},\"id\":\"2426\",\"type\":\"AllLabels\"},{\"attributes\":{},\"id\":\"2389\",\"type\":\"DataRange1d\"},{\"attributes\":{\"tools\":[{\"id\":\"2403\"},{\"id\":\"2404\"},{\"id\":\"2405\"},{\"id\":\"2406\"},{\"id\":\"2407\"},{\"id\":\"2408\"}]},\"id\":\"2410\",\"type\":\"Toolbar\"},{\"attributes\":{\"overlay\":{\"id\":\"2409\"}},\"id\":\"2405\",\"type\":\"BoxZoomTool\"},{\"attributes\":{\"label\":{\"value\":\"Boundary\"},\"renderers\":[{\"id\":\"2421\"}]},\"id\":\"2446\",\"type\":\"LegendItem\"},{\"attributes\":{\"days\":[1,15]},\"id\":\"2439\",\"type\":\"DaysTicker\"},{\"attributes\":{},\"id\":\"2387\",\"type\":\"DataRange1d\"},{\"attributes\":{\"mantissas\":[1,2,5],\"max_interval\":500.0,\"num_minor_ticks\":0},\"id\":\"2433\",\"type\":\"AdaptiveTicker\"},{\"attributes\":{\"base\":60,\"mantissas\":[1,2,5,10,15,20,30],\"max_interval\":1800000.0,\"min_interval\":1000.0,\"num_minor_ticks\":0},\"id\":\"2434\",\"type\":\"AdaptiveTicker\"},{\"attributes\":{\"fill_alpha\":0.5,\"fill_color\":\"#bdd7e7\",\"hatch_color\":\"#bdd7e7\",\"line_color\":\"#bdd7e7\",\"x\":{\"field\":\"x\"},\"y\":{\"field\":\"y\"}},\"id\":\"2418\",\"type\":\"Patch\"},{\"attributes\":{\"coordinates\":null,\"formatter\":{\"id\":\"2428\"},\"group\":null,\"major_label_policy\":{\"id\":\"2429\"},\"ticker\":{\"id\":\"2396\"}},\"id\":\"2395\",\"type\":\"DatetimeAxis\"},{\"attributes\":{\"background_fill_alpha\":0.1,\"coordinates\":null,\"group\":null,\"items\":[{\"id\":\"2446\"},{\"id\":\"2477\"},{\"id\":\"2510\"}]},\"id\":\"2445\",\"type\":\"Legend\"},{\"attributes\":{},\"id\":\"2403\",\"type\":\"PanTool\"},{\"attributes\":{},\"id\":\"2425\",\"type\":\"BasicTickFormatter\"}],\"root_ids\":[\"2384\"]},\"title\":\"Bokeh Application\",\"version\":\"2.4.2\"}};\n  const render_items = [{\"docid\":\"b44dd50c-43d5-4cf2-bab6-2f43f808a22d\",\"notebook_comms_target\":\"2658\",\"root_ids\":[\"2384\"],\"roots\":{\"2384\":\"5a87d0aa-9819-43c4-a357-7dba4493fe6f\"}}];\n  root.Bokeh.embed.embed_items_notebook(docs_json, render_items);\n\n  }\n  if (root.Bokeh !== undefined) {\n    embed_document(root);\n  } else {\n    let attempts = 0;\n    const timer = setInterval(function(root) {\n      if (root.Bokeh !== undefined) {\n        clearInterval(timer);\n        embed_document(root);\n      } else {\n        attempts++;\n        if (attempts > 100) {\n          clearInterval(timer);\n          console.log(\"Bokeh: ERROR: Unable to run BokehJS code because BokehJS library is missing\");\n        }\n      }\n    }, 10, root)\n  }\n})(window);",
      "application/vnd.bokehjs_exec.v0+json": ""
     },
     "metadata": {
      "application/vnd.bokehjs_exec.v0+json": {
       "id": "2384"
      }
     },
     "output_type": "display_data"
    }
   ],
   "source": [
    "# 90 sensitivity\n",
    "build_figure(sample_data,90)"
   ]
  },
  {
   "cell_type": "code",
   "execution_count": null,
   "metadata": {},
   "outputs": [
    {
     "data": {
      "text/html": [
       "\n",
       "\n",
       "\n",
       "\n",
       "\n",
       "\n",
       "  <div class=\"bk-root\" id=\"b3cf3596-ec0d-40f5-8ab8-6d51893a64c2\" data-root-id=\"2799\"></div>\n"
      ]
     },
     "metadata": {},
     "output_type": "display_data"
    },
    {
     "data": {
      "application/javascript": "(function(root) {\n  function embed_document(root) {\n    \n  const docs_json = {\"df0e35cc-98c4-41ac-b10d-ef55be640565\":{\"defs\":[],\"roots\":{\"references\":[{\"attributes\":{\"below\":[{\"id\":\"2810\"}],\"center\":[{\"id\":\"2813\"},{\"id\":\"2817\"},{\"id\":\"2860\"}],\"left\":[{\"id\":\"2814\"}],\"renderers\":[{\"id\":\"2836\"},{\"id\":\"2866\"},{\"id\":\"2897\"},{\"id\":\"2931\"}],\"title\":{\"id\":\"2800\"},\"toolbar\":{\"id\":\"2825\"},\"width\":800,\"x_range\":{\"id\":\"2802\"},\"x_scale\":{\"id\":\"2806\"},\"y_range\":{\"id\":\"2804\"},\"y_scale\":{\"id\":\"2808\"}},\"id\":\"2799\",\"subtype\":\"Figure\",\"type\":\"Plot\"},{\"attributes\":{},\"id\":\"2804\",\"type\":\"DataRange1d\"},{\"attributes\":{\"months\":[0,1,2,3,4,5,6,7,8,9,10,11]},\"id\":\"2855\",\"type\":\"MonthsTicker\"},{\"attributes\":{\"num_minor_ticks\":5,\"tickers\":[{\"id\":\"2848\"},{\"id\":\"2849\"},{\"id\":\"2850\"},{\"id\":\"2851\"},{\"id\":\"2852\"},{\"id\":\"2853\"},{\"id\":\"2854\"},{\"id\":\"2855\"},{\"id\":\"2856\"},{\"id\":\"2857\"},{\"id\":\"2858\"},{\"id\":\"2859\"}]},\"id\":\"2811\",\"type\":\"DatetimeTicker\"},{\"attributes\":{\"months\":[0,2,4,6,8,10]},\"id\":\"2856\",\"type\":\"MonthsTicker\"},{\"attributes\":{\"axis\":{\"id\":\"2810\"},\"coordinates\":null,\"group\":null,\"ticker\":null},\"id\":\"2813\",\"type\":\"Grid\"},{\"attributes\":{\"days\":[1,4,7,10,13,16,19,22,25,28]},\"id\":\"2852\",\"type\":\"DaysTicker\"},{\"attributes\":{},\"id\":\"2808\",\"type\":\"LinearScale\"},{\"attributes\":{},\"id\":\"3086\",\"type\":\"UnionRenderers\"},{\"attributes\":{\"days\":[1,15]},\"id\":\"2854\",\"type\":\"DaysTicker\"},{\"attributes\":{\"coordinates\":null,\"formatter\":{\"id\":\"2843\"},\"group\":null,\"major_label_policy\":{\"id\":\"2844\"},\"ticker\":{\"id\":\"2811\"}},\"id\":\"2810\",\"type\":\"DatetimeAxis\"},{\"attributes\":{\"months\":[0,6]},\"id\":\"2858\",\"type\":\"MonthsTicker\"},{\"attributes\":{},\"id\":\"2845\",\"type\":\"UnionRenderers\"},{\"attributes\":{\"days\":[1,8,15,22]},\"id\":\"2853\",\"type\":\"DaysTicker\"},{\"attributes\":{},\"id\":\"2877\",\"type\":\"UnionRenderers\"},{\"attributes\":{\"days\":[1,2,3,4,5,6,7,8,9,10,11,12,13,14,15,16,17,18,19,20,21,22,23,24,25,26,27,28,29,30,31]},\"id\":\"2851\",\"type\":\"DaysTicker\"},{\"attributes\":{},\"id\":\"2859\",\"type\":\"YearsTicker\"},{\"attributes\":{},\"id\":\"2823\",\"type\":\"HelpTool\"},{\"attributes\":{},\"id\":\"2846\",\"type\":\"Selection\"},{\"attributes\":{\"coordinates\":null,\"formatter\":{\"id\":\"2840\"},\"group\":null,\"major_label_policy\":{\"id\":\"2841\"},\"ticker\":{\"id\":\"2815\"}},\"id\":\"2814\",\"type\":\"LinearAxis\"},{\"attributes\":{\"months\":[0,4,8]},\"id\":\"2857\",\"type\":\"MonthsTicker\"},{\"attributes\":{\"axis\":{\"id\":\"2814\"},\"coordinates\":null,\"dimension\":1,\"group\":null,\"ticker\":null},\"id\":\"2817\",\"type\":\"Grid\"},{\"attributes\":{},\"id\":\"2815\",\"type\":\"BasicTicker\"},{\"attributes\":{},\"id\":\"2819\",\"type\":\"WheelZoomTool\"},{\"attributes\":{},\"id\":\"2818\",\"type\":\"PanTool\"},{\"attributes\":{\"overlay\":{\"id\":\"2824\"}},\"id\":\"2820\",\"type\":\"BoxZoomTool\"},{\"attributes\":{},\"id\":\"2821\",\"type\":\"SaveTool\"},{\"attributes\":{},\"id\":\"2822\",\"type\":\"ResetTool\"},{\"attributes\":{\"coordinates\":null,\"group\":null,\"text\":\"Batch Anomaly Detection (85 Sensitvity)\"},\"id\":\"2800\",\"type\":\"Title\"},{\"attributes\":{\"bottom_units\":\"screen\",\"coordinates\":null,\"fill_alpha\":0.5,\"fill_color\":\"lightgrey\",\"group\":null,\"left_units\":\"screen\",\"level\":\"overlay\",\"line_alpha\":1.0,\"line_color\":\"black\",\"line_dash\":[4,4],\"line_width\":2,\"right_units\":\"screen\",\"syncable\":false,\"top_units\":\"screen\"},\"id\":\"2824\",\"type\":\"BoxAnnotation\"},{\"attributes\":{\"tools\":[{\"id\":\"2818\"},{\"id\":\"2819\"},{\"id\":\"2820\"},{\"id\":\"2821\"},{\"id\":\"2822\"},{\"id\":\"2823\"}]},\"id\":\"2825\",\"type\":\"Toolbar\"},{\"attributes\":{\"coordinates\":null,\"data_source\":{\"id\":\"2926\"},\"glyph\":{\"id\":\"2928\"},\"group\":null,\"hover_glyph\":null,\"muted_glyph\":{\"id\":\"2930\"},\"nonselection_glyph\":{\"id\":\"2929\"},\"view\":{\"id\":\"2932\"}},\"id\":\"2931\",\"type\":\"GlyphRenderer\"},{\"attributes\":{\"source\":{\"id\":\"2862\"}},\"id\":\"2867\",\"type\":\"CDSView\"},{\"attributes\":{\"base\":60,\"mantissas\":[1,2,5,10,15,20,30],\"max_interval\":1800000.0,\"min_interval\":1000.0,\"num_minor_ticks\":0},\"id\":\"2849\",\"type\":\"AdaptiveTicker\"},{\"attributes\":{\"line_alpha\":0.2,\"line_color\":\"olivedrab\",\"line_dash\":[2,4,6,4],\"x\":{\"field\":\"x\"},\"y\":{\"field\":\"y\"}},\"id\":\"2896\",\"type\":\"Line\"},{\"attributes\":{},\"id\":\"2806\",\"type\":\"LinearScale\"},{\"attributes\":{\"fill_alpha\":0.2,\"fill_color\":\"#bdd7e7\",\"hatch_alpha\":0.2,\"hatch_color\":\"#bdd7e7\",\"line_alpha\":0.2,\"line_color\":\"#bdd7e7\",\"x\":{\"field\":\"x\"},\"y\":{\"field\":\"y\"}},\"id\":\"2835\",\"type\":\"Patch\"},{\"attributes\":{\"line_alpha\":0.1,\"line_color\":\"#2222aa\",\"x\":{\"field\":\"x\"},\"y\":{\"field\":\"y\"}},\"id\":\"2864\",\"type\":\"Line\"},{\"attributes\":{\"coordinates\":null,\"data_source\":{\"id\":\"2862\"},\"glyph\":{\"id\":\"2863\"},\"group\":null,\"hover_glyph\":null,\"muted_glyph\":{\"id\":\"2865\"},\"nonselection_glyph\":{\"id\":\"2864\"},\"view\":{\"id\":\"2867\"}},\"id\":\"2866\",\"type\":\"GlyphRenderer\"},{\"attributes\":{},\"id\":\"2840\",\"type\":\"BasicTickFormatter\"},{\"attributes\":{\"source\":{\"id\":\"2926\"}},\"id\":\"2932\",\"type\":\"CDSView\"},{\"attributes\":{\"data\":{\"x\":[1650082200000.0,1650094200000.0,1650105000000.0,1650113400000.0,1650115800000.0,1650124200000.0,1650128400000.0],\"y\":[67,61,64,64,64,62,56]},\"selected\":{\"id\":\"3087\"},\"selection_policy\":{\"id\":\"3086\"}},\"id\":\"2926\",\"type\":\"ColumnDataSource\"},{\"attributes\":{\"line_alpha\":0.2,\"line_color\":\"#2222aa\",\"x\":{\"field\":\"x\"},\"y\":{\"field\":\"y\"}},\"id\":\"2865\",\"type\":\"Line\"},{\"attributes\":{\"coordinates\":null,\"data_source\":{\"id\":\"2893\"},\"glyph\":{\"id\":\"2894\"},\"group\":null,\"hover_glyph\":null,\"muted_glyph\":{\"id\":\"2896\"},\"nonselection_glyph\":{\"id\":\"2895\"},\"view\":{\"id\":\"2898\"}},\"id\":\"2897\",\"type\":\"GlyphRenderer\"},{\"attributes\":{\"fill_alpha\":0.5,\"fill_color\":\"#bdd7e7\",\"hatch_color\":\"#bdd7e7\",\"line_color\":\"#bdd7e7\",\"x\":{\"field\":\"x\"},\"y\":{\"field\":\"y\"}},\"id\":\"2833\",\"type\":\"Patch\"},{\"attributes\":{\"data\":{\"x\":{\"__ndarray__\":\"AAAEI/oCeEIAAIC1+gJ4QgAA/Ef7AnhCAAB42vsCeEIAAPRs/AJ4QgAAcP/8AnhCAADskf0CeEIAAGgk/gJ4QgAA5Lb+AnhCAABgSf8CeEIAANzb/wJ4QgAAWG4AA3hCAADUAAEDeEIAAFCTAQN4QgAAzCUCA3hCAABIuAIDeEIAAMRKAwN4QgAAQN0DA3hCAAC8bwQDeEIAADgCBQN4QgAAtJQFA3hCAAAwJwYDeEIAAKy5BgN4QgAAKEwHA3hCAACk3gcDeEIAACBxCAN4QgAAnAMJA3hCAAAYlgkDeEIAAJQoCgN4QgAAELsKA3hCAACMTQsDeEIAAAjgCwN4QgAAhHIMA3hCAAAABQ0DeEIAAHyXDQN4QgAA+CkOA3hCAAB0vA4DeEIAAPBODwN4QgAAbOEPA3hCAADocxADeEIAAGQGEQN4QgAA4JgRA3hCAABcKxIDeEIAANi9EgN4QgAAVFATA3hCAADQ4hMDeEIAAEx1FAN4QgAAyAcVA3hCAABEmhUDeEIAAMAsFgN4QgAAPL8WA3hCAAC4URcDeEIAADTkFwN4QgAAsHYYA3hCAAAsCRkDeEIAAKibGQN4QgAAJC4aA3hCAACgwBoDeEIAABxTGwN4QgAAmOUbA3hCAAAUeBwDeEIAAJAKHQN4QgAADJ0dA3hCAACILx4DeEIAAATCHgN4QgAAgFQfA3hCAAD85h8DeEIAAHh5IAN4QgAA9AshA3hCAABwniEDeEIAAOwwIgN4QgAAaMMiA3hCAADkVSMDeEIAAGDoIwN4QgAA3HokA3hCAABYDSUDeEIAANSfJQN4QgAAUDImA3hCAADMxCYDeEIAAEhXJwN4QgAAxOknA3hCAABAfCgDeEIAALwOKQN4QgAAOKEpA3hCAAC0MyoDeEIAADDGKgN4QgAArFgrA3hCAAAo6ysDeEIAAKR9LAN4QgAAIBAtA3hCAACcoi0DeEIAABg1LgN4QgAAlMcuA3hCAAAQWi8DeEIAAIzsLwN4QgAACH8wA3hCAACEETEDeEIAAACkMQN4QgAAfDYyA3hCAAD4yDIDeEIAAHRbMwN4QgAA8O0zA3hCAABsgDQDeEIAAOgSNQN4QgAAZKU1A3hCAADgNzYDeEIAAFzKNgN4QgAA2Fw3A3hCAABU7zcDeEIAANCBOAN4QgAATBQ5A3hCAADIpjkDeEIAAEQ5OgN4QgAAwMs6A3hCAAA8XjsDeEIAALjwOwN4QgAANIM8A3hCAACwFT0DeEIAACyoPQN4QgAAqDo+A3hCAAAkzT4DeEIAAKBfPwN4QgAAHPI/A3hCAACYhEADeEIAABQXQQN4QgAAkKlBA3hCAAAMPEIDeEIAAIjOQgN4QgAABGFDA3hCAACA80MDeEIAAPyFRAN4QgAAeBhFA3hCAAD0qkUDeEIAAHA9RgN4QgAA7M9GA3hCAABoYkcDeEIAAOT0RwN4QgAAYIdIA3hCAADcGUkDeEIAAFisSQN4QgAA1D5KA3hCAABQ0UoDeEIAAMxjSwN4QgAASPZLA3hCAADEiEwDeEI=\",\"dtype\":\"float64\",\"order\":\"little\",\"shape\":[145]},\"y\":[21,21,21,21,66,22,64,22,22,23,23,23,23,23,24,24,24,24,24,24,24,24,24,24,24,23,67,24,24,24,24,23,25,23,23,23,23,43,22,22,22,22,22,22,22,21,61,38,21,20,20,20,20,20,19,36,19,19,19,19,18,18,18,18,64,18,18,17,17,34,17,17,17,17,17,17,17,17,64,17,17,17,64,16,16,16,16,16,16,16,16,41,16,16,16,16,62,15,16,16,16,15,15,56,15,15,15,25,15,18,15,15,15,14,14,29,14,44,14,14,14,14,22,14,14,14,14,14,14,14,15,15,19,16,16,16,17,17,17,18,19,26,19,35,20]},\"selected\":{\"id\":\"2878\"},\"selection_policy\":{\"id\":\"2877\"}},\"id\":\"2862\",\"type\":\"ColumnDataSource\"},{\"attributes\":{\"line_color\":\"olivedrab\",\"line_dash\":[2,4,6,4],\"x\":{\"field\":\"x\"},\"y\":{\"field\":\"y\"}},\"id\":\"2894\",\"type\":\"Line\"},{\"attributes\":{\"fill_alpha\":{\"value\":0.1},\"fill_color\":{\"value\":\"tomato\"},\"hatch_alpha\":{\"value\":0.1},\"hatch_color\":{\"value\":\"tomato\"},\"line_alpha\":{\"value\":0.1},\"line_color\":{\"value\":\"tomato\"},\"size\":{\"value\":5},\"x\":{\"field\":\"x\"},\"y\":{\"field\":\"y\"}},\"id\":\"2929\",\"type\":\"Circle\"},{\"attributes\":{\"line_color\":\"#2222aa\",\"x\":{\"field\":\"x\"},\"y\":{\"field\":\"y\"}},\"id\":\"2863\",\"type\":\"Line\"},{\"attributes\":{\"data\":{\"x\":{\"__ndarray__\":\"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\",\"dtype\":\"float64\",\"order\":\"little\",\"shape\":[290]},\"y\":{\"__ndarray__\":\"zczMzMzMNEDNzMzMzMw0QM3MzMzMzDRAAAAAAAAANUA0MzMzM3M4wDEIrBxaZDRAwcqhRbbTNcAfhetRuP40QBKDwMqhZTVAOIlBYOUwNUArhxbZzpc1QBkEVg4tMjZAuV1EGZeVNkAAAAAAAAA3QDEIrBxaZDZAJAaBlUPLNkAZBFYOLTI3QJqZmZmZmTdAzczMzMzMN0AAAAAAAAA4QAAAAAAAADhAAAAAAAAAOEAAAAAAAAA4QAAAAAAAADhAzczMzMzMN0DLoUW28/02QIvcyI3cSDFA99riYEGJN0AGVJdlaEo3QKhPs0B0gzdA6ti32SrwN0DLoUW28/02QD0K16Nw/TZAy6FFtvP9NkBYObTIdv42QPj8xuXMQDZA5dAi2/n+NkD4PcOuALkIQHP7gwyV/TVAAJPyHhj+NUCOKmExm/41QBvCz0Me/zVAAAAAAAAANkAAAAAAAAA2QM3MzMzMzDVAy6FFtvP9NEBuZfCfmCMwQMh7S3qa0BhAfAyAH339NEDURTTo8/szQGHdovp2/DNA6iIa9Pn9M0BzaJHtfP8zQAAAAAAAADRAy6FFtvP9MkA9CtejcL0jQIPAyqFF9jJAEFg5tMj2MkCe76fGS/cyQIR+vxgH1jFAy6FFtvP9MUBXe1ardzQxQOXQItv5/jFAc2iR7Xz/MUAAAAAAAAAsQOBwE7TrWDFAfbxbJVf+MUBHXqHbSvwwQDXkOMNUXS5ArhxaZDvfHUAQWDm0yPYwQDqb6GIyTjBAnu+nxkv3MECe76fGS/cwQAAAAAAAADFAAAAAAAAAMUDNzMzMzMwwQM3MzMzMzDBAAAAAAAAALEBOG+i0gf4wQE4b6LSB/jBAThvotIH+MEAAAAAAAAAsQAVVAFpG+S9AIITdfkz6L0A6s7qjUvsvQFXil8hY/C9AmpmZmZmZL0AAAAAAAAAwQAAAAAAAADBAAAAAAAAAMED83rZX1GEgwDBxbnlN/S9A72t7257oL0AwcW55Tf0vQDBxbnlN/S9AAAAAAAAALECAT8vEgfktQAU7HX2g/i9ABTsdfaD+L0AFOx19oP4vQLByaJHt/C1AAAAAAAAALEAAAAAAAAAsQF4ve3cO/C1AEwfHYcrbLUBhVN/Nb40tQF53DnzbISRAAAAAAAAALEAZBFYOLTIxQKabxCCw8i1AppvEILDyLUCwcmiR7fwtQAAAAAAAACxAsHJoke38K0DAFfDsIMfqPyaQNYz2+ytAth3kGDLyK8Ac/uuWEvorQBz+65YS+itA3D7Z5RX9K0DcPtnlFf0rQAAAAAAAACxAK4cW2c73K0ArhxbZzvcrQAAAAAAAACxAAAAAAAAALEAAAAAAAAAsQAAAAAAAACxAAAAAAAAALEAAAAAAAAAsQAAAAAAAACxAu0kMAiuHJ0AZBFYOLTIvQAAAAAAAADBAy6FFtvP9L0CamZmZmZkwQEgMAiuHli9AGQRWDi0yMEB7FK5H4fovQFcOLbKdLzBAKocW2c53KUDLoUW28/0yQJDtfD81XidAg8DKoUX2M0AX2c73U6M7QAIrhxbZjkFAz/dT46WbNEA3iUFg5RA6QN0kBoGVAzNAw/UoXI8CMkAbL90kBgExQKjGSzeJATFAAAAAAAAAMUDn+6nx0s0wQGZmZmZmZjBAjZduEoMAMEDwp8ZLNwkzQA0pVJUfny9ATHryBCVFLkBmZmZmZmYsQGZmZmZmZixAZmZmZmZmLEBQFqG9TkQxQLUeWlamDDJAnu+nxks3MUCe76fGSzcxQMvsnShIejxAiqVtiM5JLkCKpW2IzkkuQPK9WsCzUzBA8r1awLNTMEDuZSEM6yRGQEDS8elrKy9A7JYSmt4jPUC28/3UeGkuQIUHrWTjJDJA2/l+arw0MEBh5dAi2zk0QGHl0CLbOTRAGy/dJAYBMkCfIZJ8V5U0QFHdcy8FEzlAz26LBjtdMEB2lZe8DTYwQLfnIxhSjDBAT1srr4T5NUB70eQARa8xQPX5fmq8NDBAmFQG4v6JMECYVAbi/okwQH1UBuL+iTBAQEovPo6MMUD4a8S/Rkw3QIKQJNQVDzFAgpAk1BUPMUAiEx4jbRkxQIKQJNQVDzFATJxbXlOfREAAAAAAAAAwQAAAAAAAADBAAAAAAAAAMEAzMzMzMzMwQKKlX0AlbzFAl6M0uQ7WMUCKoQky+DwyQH2f3qrhozJAuFbMT3n7OEBmj8L1KCwyQGaPwvUoLDJAZo/C9SgsMkDAu7u7u4s4QDMzMzMzMzFAMzMzMzMzMUAAAAAAAAAxQAAAAAAAADFALt0kBoHVN0Au3SQGgdU3QJIx5GmafjhAJNv5fmo8OEA3iUFg5RBBQMx/66FzUDVABfpMjjnpM0A3Avmqk00zQNRNQRz/8jNADdHw/nZzOUDz/dR46WYyQOf7qfHSzTJA3bfch7v+M0DP91PjpZszQEhODbTF9jpALt0kBoHVOUAk2/l+ajw6QBfZzvdTozpAcT0K16MQQkDP91PjpZs0QAAAAAAAADRA8/3UeOlmNEBilnpXv5Y1QNMuIDaVxjZAxiz1rn4tN0DqMnZEwvg2QG3j5JU/FENARroKEofXO0DP91PjpZs2QDMzMzMzMzZAAAAAAAAANkAAAAAAAAA2QOWY4ME8sTZA2Ja1OiYYN0DMlIqzD383QMGSXyz55TdAbsa4RGqZRUDn+6nx0s03QNTPBef/izhA3Pl+arw0OEDP91PjpZs4QMP1KFyPAjlAz/dT46WbOEAWZjgqFAA4QPKI1lxkBjhAlITyN3A/OECj/aY8lwA4QA/8wA/8QD5Az/dT46WbOEAzMzMzMzM4QAAAAAAAADhAAAAAAAAAOEAAAAAAAAA4QAAAAAAAADhAAAAAAAAAOEAzMzMzMzM4QAAAAAAAADhAGy/dJAYBOECoxks3iQE4QDVeukkMAjhAAAAAAAAAN0DhO1WAAgQ3QBsv3SQGATdAbxKDwMoBN0D8qfHSTQI3QFTjpZvEADZA4XoUrkcBNkAX2c73UxtQQDVeukkMAjZAzczMzMycUEAAAAAAAAA1QDMzMzMzMzVAMzMzMzMzNUAzMzMzMzM1QA==\",\"dtype\":\"float64\",\"order\":\"little\",\"shape\":[290]}},\"selected\":{\"id\":\"2846\"},\"selection_policy\":{\"id\":\"2845\"}},\"id\":\"2832\",\"type\":\"ColumnDataSource\"},{\"attributes\":{\"fill_color\":{\"value\":\"tomato\"},\"hatch_color\":{\"value\":\"tomato\"},\"line_color\":{\"value\":\"tomato\"},\"size\":{\"value\":5},\"x\":{\"field\":\"x\"},\"y\":{\"field\":\"y\"}},\"id\":\"2928\",\"type\":\"Circle\"},{\"attributes\":{\"source\":{\"id\":\"2893\"}},\"id\":\"2898\",\"type\":\"CDSView\"},{\"attributes\":{\"data\":{\"x\":{\"__ndarray__\":\"AAAEI/oCeEIAAIC1+gJ4QgAA/Ef7AnhCAAB42vsCeEIAAPRs/AJ4QgAAcP/8AnhCAADskf0CeEIAAGgk/gJ4QgAA5Lb+AnhCAABgSf8CeEIAANzb/wJ4QgAAWG4AA3hCAADUAAEDeEIAAFCTAQN4QgAAzCUCA3hCAABIuAIDeEIAAMRKAwN4QgAAQN0DA3hCAAC8bwQDeEIAADgCBQN4QgAAtJQFA3hCAAAwJwYDeEIAAKy5BgN4QgAAKEwHA3hCAACk3gcDeEIAACBxCAN4QgAAnAMJA3hCAAAYlgkDeEIAAJQoCgN4QgAAELsKA3hCAACMTQsDeEIAAAjgCwN4QgAAhHIMA3hCAAAABQ0DeEIAAHyXDQN4QgAA+CkOA3hCAAB0vA4DeEIAAPBODwN4QgAAbOEPA3hCAADocxADeEIAAGQGEQN4QgAA4JgRA3hCAABcKxIDeEIAANi9EgN4QgAAVFATA3hCAADQ4hMDeEIAAEx1FAN4QgAAyAcVA3hCAABEmhUDeEIAAMAsFgN4QgAAPL8WA3hCAAC4URcDeEIAADTkFwN4QgAAsHYYA3hCAAAsCRkDeEIAAKibGQN4QgAAJC4aA3hCAACgwBoDeEIAABxTGwN4QgAAmOUbA3hCAAAUeBwDeEIAAJAKHQN4QgAADJ0dA3hCAACILx4DeEIAAATCHgN4QgAAgFQfA3hCAAD85h8DeEIAAHh5IAN4QgAA9AshA3hCAABwniEDeEIAAOwwIgN4QgAAaMMiA3hCAADkVSMDeEIAAGDoIwN4QgAA3HokA3hCAABYDSUDeEIAANSfJQN4QgAAUDImA3hCAADMxCYDeEIAAEhXJwN4QgAAxOknA3hCAABAfCgDeEIAALwOKQN4QgAAOKEpA3hCAAC0MyoDeEIAADDGKgN4QgAArFgrA3hCAAAo6ysDeEIAAKR9LAN4QgAAIBAtA3hCAACcoi0DeEIAABg1LgN4QgAAlMcuA3hCAAAQWi8DeEIAAIzsLwN4QgAACH8wA3hCAACEETEDeEIAAACkMQN4QgAAfDYyA3hCAAD4yDIDeEIAAHRbMwN4QgAA8O0zA3hCAABsgDQDeEIAAOgSNQN4QgAAZKU1A3hCAADgNzYDeEIAAFzKNgN4QgAA2Fw3A3hCAABU7zcDeEIAANCBOAN4QgAATBQ5A3hCAADIpjkDeEIAAEQ5OgN4QgAAwMs6A3hCAAA8XjsDeEIAALjwOwN4QgAANIM8A3hCAACwFT0DeEIAACyoPQN4QgAAqDo+A3hCAAAkzT4DeEIAAKBfPwN4QgAAHPI/A3hCAACYhEADeEIAABQXQQN4QgAAkKlBA3hCAAAMPEIDeEIAAIjOQgN4QgAABGFDA3hCAACA80MDeEIAAPyFRAN4QgAAeBhFA3hCAAD0qkUDeEIAAHA9RgN4QgAA7M9GA3hCAABoYkcDeEIAAOT0RwN4QgAAYIdIA3hCAADcGUkDeEIAAFisSQN4QgAA1D5KA3hCAABQ0UoDeEIAAMxjSwN4QgAASPZLA3hCAADEiEwDeEI=\",\"dtype\":\"float64\",\"order\":\"little\",\"shape\":[145]},\"y\":{\"__ndarray__\":\"AAAAAAAANUAAAAAAAAA1QAAAAAAAADVAAAAAAAAANUAAAAAAAAA1QDMzMzMzMzVAzczMzMxMNUAAAAAAAIA1QDMzMzMzszVAmpmZmZkZNkDNzMzMzEw2QJqZmZmZmTZAzczMzMzMNkAAAAAAAAA3QDMzMzMzMzdAZmZmZmZmN0CamZmZmZk3QM3MzMzMzDdAAAAAAAAAOEAAAAAAAAA4QAAAAAAAADhAAAAAAAAAOEAAAAAAAAA4QAAAAAAAADhAAAAAAAAAOEDNzMzMzMw3QE3sxE7sxDdATezETuzEN0BN7MRO7MQ3QE3sxE7sxDdAgB/4gR/4N0DNzMzMzMw3QAAAAAAAADhAzczMzMzMN0CamZmZmZk3QGZmZmZmZjdAZmZmZmZmN0BN+qRP+iQ3QBrHcRzH8TZA5pM+6ZO+NkCzYAu2YIs2QIAt2IItWDZAAAAAAAAANkAAAAAAAAA2QAAAAAAAADZAzczMzMzMNUDaj/3Yj/01QOZSLuVSLjZAsx/7sR/7NUBNuZRLuZQ1QBqGYRiGYTVAplzKpVzKNEAzMzMzMzM0QAAAAAAAADRAzczMzMzMM0AAAAAAAAA3QM3MzMzMzDZAmpmZmZmZNkBmZmZmZmY2QGZmZmZmZjZAzczMzMzMMkCamZmZmZkyQGZmZmZmZjJAMzMzMzMzMkBaXypo9aUyQFpfKmj1pTJAWl8qaPWlMkAmLPc0wnIyQPP4wwGPPzJAzczMzMzMNECamZmZmZk0QGZmZmZmZjRAZmZmZmZmNEBmZmZmZmY0QAAAAAAAADFAAAAAAAAAMUAAAAAAAAAxQAAAAAAAADFAWlVVVVWVMUBaVVVVVZUxQFpVVVVVlTFAWlVVVVWVMUCN7Xf0yhgyQABl72tCUDFAzTG8OA8dMUCa/ogF3OkwQGbLVdKotjBAAAAAAAAAMEAAAAAAAAAwQAAAAAAAADBAAAAAAAAAMECN5G1I3oYwQI3kbUjehjBAjeRtSN6GMECN5G1I3oYwQI3kbUjehjBAM6x9w9p3MEAAeUqQp0QwQAB5SpCnRDBADXlKkKdEMEANeUqQp0QwQE0zMzMzMy9ATTMzMzMzL0Dm5Ue6v/AvQGZ/4VNZii9AABl77fIjL0AAGXvt8iMvQICMvXb5kTFAAAAAAAAAMUCamZmZmZkxQJqZmZmZmTFAmpmZmZmZMUAzMzMzMzMvQM3MzMzMzC5AMzMzMzMzLUCaF3qhF/otQDOxEzuxky1AAL3QC71QLkAAvdALvVAuQAC90Au9UC5AM3IjN3IjLUAzciM3ciMtQDMzMzMzMy9AMzMzMzMzL0AzMzMzMzMvQDMzMzMzMy9AMzMzMzMzL0AAAAAAAAAsQAAAAAAAACxAAAAAAAAALEBmZmZmZmYsQM3MzMzMzCxAzczMzMzMLkCamZmZmZkvQDMzMzMzMzBAZmZmZmZmMEDNzMzMzMwwQGZmZmZmZjBAmpmZmZmZMEAAAAAAAAAxQJqZmZmZmTFAZmZmZmZmM0DNzMzMzMwzQGZmZmZmZjdAzczMzMzMN0A=\",\"dtype\":\"float64\",\"order\":\"little\",\"shape\":[145]}},\"selected\":{\"id\":\"2911\"},\"selection_policy\":{\"id\":\"2910\"}},\"id\":\"2893\",\"type\":\"ColumnDataSource\"},{\"attributes\":{\"fill_alpha\":{\"value\":0.2},\"fill_color\":{\"value\":\"tomato\"},\"hatch_alpha\":{\"value\":0.2},\"hatch_color\":{\"value\":\"tomato\"},\"line_alpha\":{\"value\":0.2},\"line_color\":{\"value\":\"tomato\"},\"size\":{\"value\":5},\"x\":{\"field\":\"x\"},\"y\":{\"field\":\"y\"}},\"id\":\"2930\",\"type\":\"Circle\"},{\"attributes\":{},\"id\":\"2841\",\"type\":\"AllLabels\"},{\"attributes\":{},\"id\":\"2843\",\"type\":\"DatetimeTickFormatter\"},{\"attributes\":{\"label\":{\"value\":\"ExpectedValue\"},\"renderers\":[{\"id\":\"2897\"}]},\"id\":\"2925\",\"type\":\"LegendItem\"},{\"attributes\":{\"label\":{\"value\":\"Value\"},\"renderers\":[{\"id\":\"2866\"}]},\"id\":\"2892\",\"type\":\"LegendItem\"},{\"attributes\":{\"line_alpha\":0.1,\"line_color\":\"olivedrab\",\"line_dash\":[2,4,6,4],\"x\":{\"field\":\"x\"},\"y\":{\"field\":\"y\"}},\"id\":\"2895\",\"type\":\"Line\"},{\"attributes\":{\"base\":24,\"mantissas\":[1,2,4,6,8,12],\"max_interval\":43200000.0,\"min_interval\":3600000.0,\"num_minor_ticks\":0},\"id\":\"2850\",\"type\":\"AdaptiveTicker\"},{\"attributes\":{\"fill_alpha\":0.1,\"fill_color\":\"#bdd7e7\",\"hatch_alpha\":0.1,\"hatch_color\":\"#bdd7e7\",\"line_alpha\":0.1,\"line_color\":\"#bdd7e7\",\"x\":{\"field\":\"x\"},\"y\":{\"field\":\"y\"}},\"id\":\"2834\",\"type\":\"Patch\"},{\"attributes\":{\"label\":{\"value\":\"Boundary\"},\"renderers\":[{\"id\":\"2836\"}]},\"id\":\"2861\",\"type\":\"LegendItem\"},{\"attributes\":{},\"id\":\"2844\",\"type\":\"AllLabels\"},{\"attributes\":{},\"id\":\"2878\",\"type\":\"Selection\"},{\"attributes\":{},\"id\":\"3087\",\"type\":\"Selection\"},{\"attributes\":{},\"id\":\"2802\",\"type\":\"DataRange1d\"},{\"attributes\":{},\"id\":\"2910\",\"type\":\"UnionRenderers\"},{\"attributes\":{\"mantissas\":[1,2,5],\"max_interval\":500.0,\"num_minor_ticks\":0},\"id\":\"2848\",\"type\":\"AdaptiveTicker\"},{\"attributes\":{\"coordinates\":null,\"data_source\":{\"id\":\"2832\"},\"glyph\":{\"id\":\"2833\"},\"group\":null,\"hover_glyph\":null,\"muted_glyph\":{\"id\":\"2835\"},\"nonselection_glyph\":{\"id\":\"2834\"},\"view\":{\"id\":\"2837\"}},\"id\":\"2836\",\"type\":\"GlyphRenderer\"},{\"attributes\":{},\"id\":\"2911\",\"type\":\"Selection\"},{\"attributes\":{\"source\":{\"id\":\"2832\"}},\"id\":\"2837\",\"type\":\"CDSView\"},{\"attributes\":{\"background_fill_alpha\":0.1,\"coordinates\":null,\"group\":null,\"items\":[{\"id\":\"2861\"},{\"id\":\"2892\"},{\"id\":\"2925\"}]},\"id\":\"2860\",\"type\":\"Legend\"}],\"root_ids\":[\"2799\"]},\"title\":\"Bokeh Application\",\"version\":\"2.4.2\"}};\n  const render_items = [{\"docid\":\"df0e35cc-98c4-41ac-b10d-ef55be640565\",\"notebook_comms_target\":\"3101\",\"root_ids\":[\"2799\"],\"roots\":{\"2799\":\"b3cf3596-ec0d-40f5-8ab8-6d51893a64c2\"}}];\n  root.Bokeh.embed.embed_items_notebook(docs_json, render_items);\n\n  }\n  if (root.Bokeh !== undefined) {\n    embed_document(root);\n  } else {\n    let attempts = 0;\n    const timer = setInterval(function(root) {\n      if (root.Bokeh !== undefined) {\n        clearInterval(timer);\n        embed_document(root);\n      } else {\n        attempts++;\n        if (attempts > 100) {\n          clearInterval(timer);\n          console.log(\"Bokeh: ERROR: Unable to run BokehJS code because BokehJS library is missing\");\n        }\n      }\n    }, 10, root)\n  }\n})(window);",
      "application/vnd.bokehjs_exec.v0+json": ""
     },
     "metadata": {
      "application/vnd.bokehjs_exec.v0+json": {
       "id": "2799"
      }
     },
     "output_type": "display_data"
    }
   ],
   "source": [
    "#85 sensitivity\n",
    "build_figure(sample_data,85)"
   ]
  },
  {
   "cell_type": "code",
   "execution_count": null,
   "metadata": {},
   "outputs": [],
   "source": []
  }
 ],
 "metadata": {
  "kernelspec": {
   "display_name": "Python 3 (ipykernel)",
   "language": "python",
   "name": "python3"
  },
  "language_info": {
   "codemirror_mode": {
    "name": "ipython",
    "version": 3
   },
   "file_extension": ".py",
   "mimetype": "text/x-python",
   "name": "python",
   "nbconvert_exporter": "python",
   "pygments_lexer": "ipython3",
   "version": "3.8.10"
  }
 },
 "nbformat": 4,
 "nbformat_minor": 2
}
